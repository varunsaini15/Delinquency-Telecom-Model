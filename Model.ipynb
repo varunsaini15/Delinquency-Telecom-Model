{
  "cells": [
    {
      "cell_type": "markdown",
      "metadata": {
        "id": "9dB1q3c3WJwX"
      },
      "source": [
        "This code is contributed by **Varun Saini.**"
      ]
    },
    {
      "cell_type": "code",
      "execution_count": 52,
      "metadata": {
        "id": "zy2KFgeb27KR"
      },
      "outputs": [],
      "source": [
        "import numpy as np \n",
        "import pandas as pd\n",
        "import matplotlib.pyplot as plt\n",
        "import seaborn as sns"
      ]
    },
    {
      "cell_type": "code",
      "execution_count": 53,
      "metadata": {
        "id": "IzdX3nW1681J"
      },
      "outputs": [],
      "source": [
        "from sklearn.model_selection import train_test_split\n",
        "from sklearn.linear_model import LinearRegression\n",
        "from sklearn.metrics import r2_score"
      ]
    },
    {
      "cell_type": "markdown",
      "metadata": {
        "id": "GK99J1Bm-zU-"
      },
      "source": [
        "#Reading dataset"
      ]
    },
    {
      "cell_type": "code",
      "execution_count": 54,
      "metadata": {
        "colab": {
          "base_uri": "https://localhost:8080/",
          "height": 403
        },
        "id": "W4jlb-Q39myj",
        "outputId": "31efec5c-c414-4516-fbb8-c5ddc5ef8afa"
      },
      "outputs": [
        {
          "data": {
            "text/html": [
              "\n",
              "  <div id=\"df-d47024f4-46b5-4ccd-9c68-f99f12915872\">\n",
              "    <div class=\"colab-df-container\">\n",
              "      <div>\n",
              "<style scoped>\n",
              "    .dataframe tbody tr th:only-of-type {\n",
              "        vertical-align: middle;\n",
              "    }\n",
              "\n",
              "    .dataframe tbody tr th {\n",
              "        vertical-align: top;\n",
              "    }\n",
              "\n",
              "    .dataframe thead th {\n",
              "        text-align: right;\n",
              "    }\n",
              "</style>\n",
              "<table border=\"1\" class=\"dataframe\">\n",
              "  <thead>\n",
              "    <tr style=\"text-align: right;\">\n",
              "      <th></th>\n",
              "      <th>Unnamed: 0</th>\n",
              "      <th>label</th>\n",
              "      <th>msisdn</th>\n",
              "      <th>aon</th>\n",
              "      <th>daily_decr30</th>\n",
              "      <th>daily_decr90</th>\n",
              "      <th>rental30</th>\n",
              "      <th>rental90</th>\n",
              "      <th>last_rech_date_ma</th>\n",
              "      <th>last_rech_date_da</th>\n",
              "      <th>...</th>\n",
              "      <th>maxamnt_loans30</th>\n",
              "      <th>medianamnt_loans30</th>\n",
              "      <th>cnt_loans90</th>\n",
              "      <th>amnt_loans90</th>\n",
              "      <th>maxamnt_loans90</th>\n",
              "      <th>medianamnt_loans90</th>\n",
              "      <th>payback30</th>\n",
              "      <th>payback90</th>\n",
              "      <th>pcircle</th>\n",
              "      <th>pdate</th>\n",
              "    </tr>\n",
              "  </thead>\n",
              "  <tbody>\n",
              "    <tr>\n",
              "      <th>0</th>\n",
              "      <td>1</td>\n",
              "      <td>0</td>\n",
              "      <td>21408I70789</td>\n",
              "      <td>272.0</td>\n",
              "      <td>3055.050000</td>\n",
              "      <td>3065.150000</td>\n",
              "      <td>220.13</td>\n",
              "      <td>260.13</td>\n",
              "      <td>2.0</td>\n",
              "      <td>0.0</td>\n",
              "      <td>...</td>\n",
              "      <td>6.0</td>\n",
              "      <td>0.0</td>\n",
              "      <td>2.0</td>\n",
              "      <td>12</td>\n",
              "      <td>6</td>\n",
              "      <td>0.0</td>\n",
              "      <td>29.000000</td>\n",
              "      <td>29.000000</td>\n",
              "      <td>UPW</td>\n",
              "      <td>2016-07-20</td>\n",
              "    </tr>\n",
              "    <tr>\n",
              "      <th>1</th>\n",
              "      <td>2</td>\n",
              "      <td>1</td>\n",
              "      <td>76462I70374</td>\n",
              "      <td>712.0</td>\n",
              "      <td>12122.000000</td>\n",
              "      <td>12124.750000</td>\n",
              "      <td>3691.26</td>\n",
              "      <td>3691.26</td>\n",
              "      <td>20.0</td>\n",
              "      <td>0.0</td>\n",
              "      <td>...</td>\n",
              "      <td>12.0</td>\n",
              "      <td>0.0</td>\n",
              "      <td>1.0</td>\n",
              "      <td>12</td>\n",
              "      <td>12</td>\n",
              "      <td>0.0</td>\n",
              "      <td>0.000000</td>\n",
              "      <td>0.000000</td>\n",
              "      <td>UPW</td>\n",
              "      <td>2016-08-10</td>\n",
              "    </tr>\n",
              "    <tr>\n",
              "      <th>2</th>\n",
              "      <td>3</td>\n",
              "      <td>1</td>\n",
              "      <td>17943I70372</td>\n",
              "      <td>535.0</td>\n",
              "      <td>1398.000000</td>\n",
              "      <td>1398.000000</td>\n",
              "      <td>900.13</td>\n",
              "      <td>900.13</td>\n",
              "      <td>3.0</td>\n",
              "      <td>0.0</td>\n",
              "      <td>...</td>\n",
              "      <td>6.0</td>\n",
              "      <td>0.0</td>\n",
              "      <td>1.0</td>\n",
              "      <td>6</td>\n",
              "      <td>6</td>\n",
              "      <td>0.0</td>\n",
              "      <td>0.000000</td>\n",
              "      <td>0.000000</td>\n",
              "      <td>UPW</td>\n",
              "      <td>2016-08-19</td>\n",
              "    </tr>\n",
              "    <tr>\n",
              "      <th>3</th>\n",
              "      <td>4</td>\n",
              "      <td>1</td>\n",
              "      <td>55773I70781</td>\n",
              "      <td>241.0</td>\n",
              "      <td>21.228000</td>\n",
              "      <td>21.228000</td>\n",
              "      <td>159.42</td>\n",
              "      <td>159.42</td>\n",
              "      <td>41.0</td>\n",
              "      <td>0.0</td>\n",
              "      <td>...</td>\n",
              "      <td>6.0</td>\n",
              "      <td>0.0</td>\n",
              "      <td>2.0</td>\n",
              "      <td>12</td>\n",
              "      <td>6</td>\n",
              "      <td>0.0</td>\n",
              "      <td>0.000000</td>\n",
              "      <td>0.000000</td>\n",
              "      <td>UPW</td>\n",
              "      <td>2016-06-06</td>\n",
              "    </tr>\n",
              "    <tr>\n",
              "      <th>4</th>\n",
              "      <td>5</td>\n",
              "      <td>1</td>\n",
              "      <td>03813I82730</td>\n",
              "      <td>947.0</td>\n",
              "      <td>150.619333</td>\n",
              "      <td>150.619333</td>\n",
              "      <td>1098.90</td>\n",
              "      <td>1098.90</td>\n",
              "      <td>4.0</td>\n",
              "      <td>0.0</td>\n",
              "      <td>...</td>\n",
              "      <td>6.0</td>\n",
              "      <td>0.0</td>\n",
              "      <td>7.0</td>\n",
              "      <td>42</td>\n",
              "      <td>6</td>\n",
              "      <td>0.0</td>\n",
              "      <td>2.333333</td>\n",
              "      <td>2.333333</td>\n",
              "      <td>UPW</td>\n",
              "      <td>2016-06-22</td>\n",
              "    </tr>\n",
              "  </tbody>\n",
              "</table>\n",
              "<p>5 rows × 37 columns</p>\n",
              "</div>\n",
              "      <button class=\"colab-df-convert\" onclick=\"convertToInteractive('df-d47024f4-46b5-4ccd-9c68-f99f12915872')\"\n",
              "              title=\"Convert this dataframe to an interactive table.\"\n",
              "              style=\"display:none;\">\n",
              "        \n",
              "  <svg xmlns=\"http://www.w3.org/2000/svg\" height=\"24px\"viewBox=\"0 0 24 24\"\n",
              "       width=\"24px\">\n",
              "    <path d=\"M0 0h24v24H0V0z\" fill=\"none\"/>\n",
              "    <path d=\"M18.56 5.44l.94 2.06.94-2.06 2.06-.94-2.06-.94-.94-2.06-.94 2.06-2.06.94zm-11 1L8.5 8.5l.94-2.06 2.06-.94-2.06-.94L8.5 2.5l-.94 2.06-2.06.94zm10 10l.94 2.06.94-2.06 2.06-.94-2.06-.94-.94-2.06-.94 2.06-2.06.94z\"/><path d=\"M17.41 7.96l-1.37-1.37c-.4-.4-.92-.59-1.43-.59-.52 0-1.04.2-1.43.59L10.3 9.45l-7.72 7.72c-.78.78-.78 2.05 0 2.83L4 21.41c.39.39.9.59 1.41.59.51 0 1.02-.2 1.41-.59l7.78-7.78 2.81-2.81c.8-.78.8-2.07 0-2.86zM5.41 20L4 18.59l7.72-7.72 1.47 1.35L5.41 20z\"/>\n",
              "  </svg>\n",
              "      </button>\n",
              "      \n",
              "  <style>\n",
              "    .colab-df-container {\n",
              "      display:flex;\n",
              "      flex-wrap:wrap;\n",
              "      gap: 12px;\n",
              "    }\n",
              "\n",
              "    .colab-df-convert {\n",
              "      background-color: #E8F0FE;\n",
              "      border: none;\n",
              "      border-radius: 50%;\n",
              "      cursor: pointer;\n",
              "      display: none;\n",
              "      fill: #1967D2;\n",
              "      height: 32px;\n",
              "      padding: 0 0 0 0;\n",
              "      width: 32px;\n",
              "    }\n",
              "\n",
              "    .colab-df-convert:hover {\n",
              "      background-color: #E2EBFA;\n",
              "      box-shadow: 0px 1px 2px rgba(60, 64, 67, 0.3), 0px 1px 3px 1px rgba(60, 64, 67, 0.15);\n",
              "      fill: #174EA6;\n",
              "    }\n",
              "\n",
              "    [theme=dark] .colab-df-convert {\n",
              "      background-color: #3B4455;\n",
              "      fill: #D2E3FC;\n",
              "    }\n",
              "\n",
              "    [theme=dark] .colab-df-convert:hover {\n",
              "      background-color: #434B5C;\n",
              "      box-shadow: 0px 1px 3px 1px rgba(0, 0, 0, 0.15);\n",
              "      filter: drop-shadow(0px 1px 2px rgba(0, 0, 0, 0.3));\n",
              "      fill: #FFFFFF;\n",
              "    }\n",
              "  </style>\n",
              "\n",
              "      <script>\n",
              "        const buttonEl =\n",
              "          document.querySelector('#df-d47024f4-46b5-4ccd-9c68-f99f12915872 button.colab-df-convert');\n",
              "        buttonEl.style.display =\n",
              "          google.colab.kernel.accessAllowed ? 'block' : 'none';\n",
              "\n",
              "        async function convertToInteractive(key) {\n",
              "          const element = document.querySelector('#df-d47024f4-46b5-4ccd-9c68-f99f12915872');\n",
              "          const dataTable =\n",
              "            await google.colab.kernel.invokeFunction('convertToInteractive',\n",
              "                                                     [key], {});\n",
              "          if (!dataTable) return;\n",
              "\n",
              "          const docLinkHtml = 'Like what you see? Visit the ' +\n",
              "            '<a target=\"_blank\" href=https://colab.research.google.com/notebooks/data_table.ipynb>data table notebook</a>'\n",
              "            + ' to learn more about interactive tables.';\n",
              "          element.innerHTML = '';\n",
              "          dataTable['output_type'] = 'display_data';\n",
              "          await google.colab.output.renderOutput(dataTable, element);\n",
              "          const docLink = document.createElement('div');\n",
              "          docLink.innerHTML = docLinkHtml;\n",
              "          element.appendChild(docLink);\n",
              "        }\n",
              "      </script>\n",
              "    </div>\n",
              "  </div>\n",
              "  "
            ],
            "text/plain": [
              "   Unnamed: 0  label       msisdn    aon  daily_decr30  daily_decr90  \\\n",
              "0           1      0  21408I70789  272.0   3055.050000   3065.150000   \n",
              "1           2      1  76462I70374  712.0  12122.000000  12124.750000   \n",
              "2           3      1  17943I70372  535.0   1398.000000   1398.000000   \n",
              "3           4      1  55773I70781  241.0     21.228000     21.228000   \n",
              "4           5      1  03813I82730  947.0    150.619333    150.619333   \n",
              "\n",
              "   rental30  rental90  last_rech_date_ma  last_rech_date_da  ...  \\\n",
              "0    220.13    260.13                2.0                0.0  ...   \n",
              "1   3691.26   3691.26               20.0                0.0  ...   \n",
              "2    900.13    900.13                3.0                0.0  ...   \n",
              "3    159.42    159.42               41.0                0.0  ...   \n",
              "4   1098.90   1098.90                4.0                0.0  ...   \n",
              "\n",
              "   maxamnt_loans30  medianamnt_loans30  cnt_loans90  amnt_loans90  \\\n",
              "0              6.0                 0.0          2.0            12   \n",
              "1             12.0                 0.0          1.0            12   \n",
              "2              6.0                 0.0          1.0             6   \n",
              "3              6.0                 0.0          2.0            12   \n",
              "4              6.0                 0.0          7.0            42   \n",
              "\n",
              "   maxamnt_loans90  medianamnt_loans90  payback30  payback90  pcircle  \\\n",
              "0                6                 0.0  29.000000  29.000000      UPW   \n",
              "1               12                 0.0   0.000000   0.000000      UPW   \n",
              "2                6                 0.0   0.000000   0.000000      UPW   \n",
              "3                6                 0.0   0.000000   0.000000      UPW   \n",
              "4                6                 0.0   2.333333   2.333333      UPW   \n",
              "\n",
              "        pdate  \n",
              "0  2016-07-20  \n",
              "1  2016-08-10  \n",
              "2  2016-08-19  \n",
              "3  2016-06-06  \n",
              "4  2016-06-22  \n",
              "\n",
              "[5 rows x 37 columns]"
            ]
          },
          "execution_count": 54,
          "metadata": {},
          "output_type": "execute_result"
        }
      ],
      "source": [
        "df=pd.read_csv('/content/sample_data_intw.csv')\n",
        "df.head()"
      ]
    },
    {
      "cell_type": "code",
      "execution_count": 55,
      "metadata": {
        "colab": {
          "base_uri": "https://localhost:8080/"
        },
        "id": "LCvfgVdi96C_",
        "outputId": "5c35f24f-9824-4512-bcc9-d2bdc102cc18"
      },
      "outputs": [
        {
          "data": {
            "text/plain": [
              "(209593, 37)"
            ]
          },
          "execution_count": 55,
          "metadata": {},
          "output_type": "execute_result"
        }
      ],
      "source": [
        "df.shape"
      ]
    },
    {
      "cell_type": "code",
      "execution_count": 56,
      "metadata": {
        "colab": {
          "base_uri": "https://localhost:8080/"
        },
        "id": "pFm2TmtN-w9W",
        "outputId": "ef253f78-0a3f-4d88-b173-4c93cd9e9499"
      },
      "outputs": [
        {
          "name": "stdout",
          "output_type": "stream",
          "text": [
            "<class 'pandas.core.frame.DataFrame'>\n",
            "RangeIndex: 209593 entries, 0 to 209592\n",
            "Data columns (total 37 columns):\n",
            " #   Column                Non-Null Count   Dtype  \n",
            "---  ------                --------------   -----  \n",
            " 0   Unnamed: 0            209593 non-null  int64  \n",
            " 1   label                 209593 non-null  int64  \n",
            " 2   msisdn                209593 non-null  object \n",
            " 3   aon                   209593 non-null  float64\n",
            " 4   daily_decr30          209593 non-null  float64\n",
            " 5   daily_decr90          209593 non-null  float64\n",
            " 6   rental30              209593 non-null  float64\n",
            " 7   rental90              209593 non-null  float64\n",
            " 8   last_rech_date_ma     209593 non-null  float64\n",
            " 9   last_rech_date_da     209593 non-null  float64\n",
            " 10  last_rech_amt_ma      209593 non-null  int64  \n",
            " 11  cnt_ma_rech30         209593 non-null  int64  \n",
            " 12  fr_ma_rech30          209593 non-null  float64\n",
            " 13  sumamnt_ma_rech30     209593 non-null  float64\n",
            " 14  medianamnt_ma_rech30  209593 non-null  float64\n",
            " 15  medianmarechprebal30  209593 non-null  float64\n",
            " 16  cnt_ma_rech90         209593 non-null  int64  \n",
            " 17  fr_ma_rech90          209593 non-null  int64  \n",
            " 18  sumamnt_ma_rech90     209593 non-null  int64  \n",
            " 19  medianamnt_ma_rech90  209593 non-null  float64\n",
            " 20  medianmarechprebal90  209593 non-null  float64\n",
            " 21  cnt_da_rech30         209593 non-null  float64\n",
            " 22  fr_da_rech30          209593 non-null  float64\n",
            " 23  cnt_da_rech90         209593 non-null  int64  \n",
            " 24  fr_da_rech90          209593 non-null  int64  \n",
            " 25  cnt_loans30           209593 non-null  int64  \n",
            " 26  amnt_loans30          209593 non-null  int64  \n",
            " 27  maxamnt_loans30       209593 non-null  float64\n",
            " 28  medianamnt_loans30    209593 non-null  float64\n",
            " 29  cnt_loans90           209593 non-null  float64\n",
            " 30  amnt_loans90          209593 non-null  int64  \n",
            " 31  maxamnt_loans90       209593 non-null  int64  \n",
            " 32  medianamnt_loans90    209593 non-null  float64\n",
            " 33  payback30             209593 non-null  float64\n",
            " 34  payback90             209593 non-null  float64\n",
            " 35  pcircle               209593 non-null  object \n",
            " 36  pdate                 209593 non-null  object \n",
            "dtypes: float64(21), int64(13), object(3)\n",
            "memory usage: 59.2+ MB\n"
          ]
        }
      ],
      "source": [
        "df.info()"
      ]
    },
    {
      "cell_type": "code",
      "execution_count": 57,
      "metadata": {
        "colab": {
          "base_uri": "https://localhost:8080/"
        },
        "id": "41pSfH3HBe4l",
        "outputId": "48333017-5c45-4abf-aa4c-dbc31bf7bd38"
      },
      "outputs": [
        {
          "data": {
            "text/plain": [
              "Unnamed: 0                int64\n",
              "label                     int64\n",
              "msisdn                   object\n",
              "aon                     float64\n",
              "daily_decr30            float64\n",
              "daily_decr90            float64\n",
              "rental30                float64\n",
              "rental90                float64\n",
              "last_rech_date_ma       float64\n",
              "last_rech_date_da       float64\n",
              "last_rech_amt_ma          int64\n",
              "cnt_ma_rech30             int64\n",
              "fr_ma_rech30            float64\n",
              "sumamnt_ma_rech30       float64\n",
              "medianamnt_ma_rech30    float64\n",
              "medianmarechprebal30    float64\n",
              "cnt_ma_rech90             int64\n",
              "fr_ma_rech90              int64\n",
              "sumamnt_ma_rech90         int64\n",
              "medianamnt_ma_rech90    float64\n",
              "medianmarechprebal90    float64\n",
              "cnt_da_rech30           float64\n",
              "fr_da_rech30            float64\n",
              "cnt_da_rech90             int64\n",
              "fr_da_rech90              int64\n",
              "cnt_loans30               int64\n",
              "amnt_loans30              int64\n",
              "maxamnt_loans30         float64\n",
              "medianamnt_loans30      float64\n",
              "cnt_loans90             float64\n",
              "amnt_loans90              int64\n",
              "maxamnt_loans90           int64\n",
              "medianamnt_loans90      float64\n",
              "payback30               float64\n",
              "payback90               float64\n",
              "pcircle                  object\n",
              "pdate                    object\n",
              "dtype: object"
            ]
          },
          "execution_count": 57,
          "metadata": {},
          "output_type": "execute_result"
        }
      ],
      "source": [
        "df.dtypes"
      ]
    },
    {
      "cell_type": "code",
      "execution_count": 58,
      "metadata": {
        "colab": {
          "base_uri": "https://localhost:8080/",
          "height": 394
        },
        "id": "uTaqmmnC-5y1",
        "outputId": "f51a813c-0452-4d1a-e1dd-aa59518e756e"
      },
      "outputs": [
        {
          "data": {
            "text/html": [
              "\n",
              "  <div id=\"df-b33ac492-24e1-4217-acc0-365492706a70\">\n",
              "    <div class=\"colab-df-container\">\n",
              "      <div>\n",
              "<style scoped>\n",
              "    .dataframe tbody tr th:only-of-type {\n",
              "        vertical-align: middle;\n",
              "    }\n",
              "\n",
              "    .dataframe tbody tr th {\n",
              "        vertical-align: top;\n",
              "    }\n",
              "\n",
              "    .dataframe thead th {\n",
              "        text-align: right;\n",
              "    }\n",
              "</style>\n",
              "<table border=\"1\" class=\"dataframe\">\n",
              "  <thead>\n",
              "    <tr style=\"text-align: right;\">\n",
              "      <th></th>\n",
              "      <th>Unnamed: 0</th>\n",
              "      <th>label</th>\n",
              "      <th>aon</th>\n",
              "      <th>daily_decr30</th>\n",
              "      <th>daily_decr90</th>\n",
              "      <th>rental30</th>\n",
              "      <th>rental90</th>\n",
              "      <th>last_rech_date_ma</th>\n",
              "      <th>last_rech_date_da</th>\n",
              "      <th>last_rech_amt_ma</th>\n",
              "      <th>...</th>\n",
              "      <th>cnt_loans30</th>\n",
              "      <th>amnt_loans30</th>\n",
              "      <th>maxamnt_loans30</th>\n",
              "      <th>medianamnt_loans30</th>\n",
              "      <th>cnt_loans90</th>\n",
              "      <th>amnt_loans90</th>\n",
              "      <th>maxamnt_loans90</th>\n",
              "      <th>medianamnt_loans90</th>\n",
              "      <th>payback30</th>\n",
              "      <th>payback90</th>\n",
              "    </tr>\n",
              "  </thead>\n",
              "  <tbody>\n",
              "    <tr>\n",
              "      <th>count</th>\n",
              "      <td>209593.000000</td>\n",
              "      <td>209593.000000</td>\n",
              "      <td>209593.000000</td>\n",
              "      <td>209593.000000</td>\n",
              "      <td>209593.000000</td>\n",
              "      <td>209593.000000</td>\n",
              "      <td>209593.000000</td>\n",
              "      <td>209593.000000</td>\n",
              "      <td>209593.000000</td>\n",
              "      <td>209593.000000</td>\n",
              "      <td>...</td>\n",
              "      <td>209593.000000</td>\n",
              "      <td>209593.000000</td>\n",
              "      <td>209593.000000</td>\n",
              "      <td>209593.000000</td>\n",
              "      <td>209593.000000</td>\n",
              "      <td>209593.000000</td>\n",
              "      <td>209593.000000</td>\n",
              "      <td>209593.000000</td>\n",
              "      <td>209593.000000</td>\n",
              "      <td>209593.000000</td>\n",
              "    </tr>\n",
              "    <tr>\n",
              "      <th>mean</th>\n",
              "      <td>104797.000000</td>\n",
              "      <td>0.875177</td>\n",
              "      <td>8112.343445</td>\n",
              "      <td>5381.402289</td>\n",
              "      <td>6082.515068</td>\n",
              "      <td>2692.581910</td>\n",
              "      <td>3483.406534</td>\n",
              "      <td>3755.847800</td>\n",
              "      <td>3712.202921</td>\n",
              "      <td>2064.452797</td>\n",
              "      <td>...</td>\n",
              "      <td>2.758981</td>\n",
              "      <td>17.952021</td>\n",
              "      <td>274.658747</td>\n",
              "      <td>0.054029</td>\n",
              "      <td>18.520919</td>\n",
              "      <td>23.645398</td>\n",
              "      <td>6.703134</td>\n",
              "      <td>0.046077</td>\n",
              "      <td>3.398826</td>\n",
              "      <td>4.321485</td>\n",
              "    </tr>\n",
              "    <tr>\n",
              "      <th>std</th>\n",
              "      <td>60504.431823</td>\n",
              "      <td>0.330519</td>\n",
              "      <td>75696.082531</td>\n",
              "      <td>9220.623400</td>\n",
              "      <td>10918.812767</td>\n",
              "      <td>4308.586781</td>\n",
              "      <td>5770.461279</td>\n",
              "      <td>53905.892230</td>\n",
              "      <td>53374.833430</td>\n",
              "      <td>2370.786034</td>\n",
              "      <td>...</td>\n",
              "      <td>2.554502</td>\n",
              "      <td>17.379741</td>\n",
              "      <td>4245.264648</td>\n",
              "      <td>0.218039</td>\n",
              "      <td>224.797423</td>\n",
              "      <td>26.469861</td>\n",
              "      <td>2.103864</td>\n",
              "      <td>0.200692</td>\n",
              "      <td>8.813729</td>\n",
              "      <td>10.308108</td>\n",
              "    </tr>\n",
              "    <tr>\n",
              "      <th>min</th>\n",
              "      <td>1.000000</td>\n",
              "      <td>0.000000</td>\n",
              "      <td>-48.000000</td>\n",
              "      <td>-93.012667</td>\n",
              "      <td>-93.012667</td>\n",
              "      <td>-23737.140000</td>\n",
              "      <td>-24720.580000</td>\n",
              "      <td>-29.000000</td>\n",
              "      <td>-29.000000</td>\n",
              "      <td>0.000000</td>\n",
              "      <td>...</td>\n",
              "      <td>0.000000</td>\n",
              "      <td>0.000000</td>\n",
              "      <td>0.000000</td>\n",
              "      <td>0.000000</td>\n",
              "      <td>0.000000</td>\n",
              "      <td>0.000000</td>\n",
              "      <td>0.000000</td>\n",
              "      <td>0.000000</td>\n",
              "      <td>0.000000</td>\n",
              "      <td>0.000000</td>\n",
              "    </tr>\n",
              "    <tr>\n",
              "      <th>25%</th>\n",
              "      <td>52399.000000</td>\n",
              "      <td>1.000000</td>\n",
              "      <td>246.000000</td>\n",
              "      <td>42.440000</td>\n",
              "      <td>42.692000</td>\n",
              "      <td>280.420000</td>\n",
              "      <td>300.260000</td>\n",
              "      <td>1.000000</td>\n",
              "      <td>0.000000</td>\n",
              "      <td>770.000000</td>\n",
              "      <td>...</td>\n",
              "      <td>1.000000</td>\n",
              "      <td>6.000000</td>\n",
              "      <td>6.000000</td>\n",
              "      <td>0.000000</td>\n",
              "      <td>1.000000</td>\n",
              "      <td>6.000000</td>\n",
              "      <td>6.000000</td>\n",
              "      <td>0.000000</td>\n",
              "      <td>0.000000</td>\n",
              "      <td>0.000000</td>\n",
              "    </tr>\n",
              "    <tr>\n",
              "      <th>50%</th>\n",
              "      <td>104797.000000</td>\n",
              "      <td>1.000000</td>\n",
              "      <td>527.000000</td>\n",
              "      <td>1469.175667</td>\n",
              "      <td>1500.000000</td>\n",
              "      <td>1083.570000</td>\n",
              "      <td>1334.000000</td>\n",
              "      <td>3.000000</td>\n",
              "      <td>0.000000</td>\n",
              "      <td>1539.000000</td>\n",
              "      <td>...</td>\n",
              "      <td>2.000000</td>\n",
              "      <td>12.000000</td>\n",
              "      <td>6.000000</td>\n",
              "      <td>0.000000</td>\n",
              "      <td>2.000000</td>\n",
              "      <td>12.000000</td>\n",
              "      <td>6.000000</td>\n",
              "      <td>0.000000</td>\n",
              "      <td>0.000000</td>\n",
              "      <td>1.666667</td>\n",
              "    </tr>\n",
              "    <tr>\n",
              "      <th>75%</th>\n",
              "      <td>157195.000000</td>\n",
              "      <td>1.000000</td>\n",
              "      <td>982.000000</td>\n",
              "      <td>7244.000000</td>\n",
              "      <td>7802.790000</td>\n",
              "      <td>3356.940000</td>\n",
              "      <td>4201.790000</td>\n",
              "      <td>7.000000</td>\n",
              "      <td>0.000000</td>\n",
              "      <td>2309.000000</td>\n",
              "      <td>...</td>\n",
              "      <td>4.000000</td>\n",
              "      <td>24.000000</td>\n",
              "      <td>6.000000</td>\n",
              "      <td>0.000000</td>\n",
              "      <td>5.000000</td>\n",
              "      <td>30.000000</td>\n",
              "      <td>6.000000</td>\n",
              "      <td>0.000000</td>\n",
              "      <td>3.750000</td>\n",
              "      <td>4.500000</td>\n",
              "    </tr>\n",
              "    <tr>\n",
              "      <th>max</th>\n",
              "      <td>209593.000000</td>\n",
              "      <td>1.000000</td>\n",
              "      <td>999860.755168</td>\n",
              "      <td>265926.000000</td>\n",
              "      <td>320630.000000</td>\n",
              "      <td>198926.110000</td>\n",
              "      <td>200148.110000</td>\n",
              "      <td>998650.377733</td>\n",
              "      <td>999171.809410</td>\n",
              "      <td>55000.000000</td>\n",
              "      <td>...</td>\n",
              "      <td>50.000000</td>\n",
              "      <td>306.000000</td>\n",
              "      <td>99864.560864</td>\n",
              "      <td>3.000000</td>\n",
              "      <td>4997.517944</td>\n",
              "      <td>438.000000</td>\n",
              "      <td>12.000000</td>\n",
              "      <td>3.000000</td>\n",
              "      <td>171.500000</td>\n",
              "      <td>171.500000</td>\n",
              "    </tr>\n",
              "  </tbody>\n",
              "</table>\n",
              "<p>8 rows × 34 columns</p>\n",
              "</div>\n",
              "      <button class=\"colab-df-convert\" onclick=\"convertToInteractive('df-b33ac492-24e1-4217-acc0-365492706a70')\"\n",
              "              title=\"Convert this dataframe to an interactive table.\"\n",
              "              style=\"display:none;\">\n",
              "        \n",
              "  <svg xmlns=\"http://www.w3.org/2000/svg\" height=\"24px\"viewBox=\"0 0 24 24\"\n",
              "       width=\"24px\">\n",
              "    <path d=\"M0 0h24v24H0V0z\" fill=\"none\"/>\n",
              "    <path d=\"M18.56 5.44l.94 2.06.94-2.06 2.06-.94-2.06-.94-.94-2.06-.94 2.06-2.06.94zm-11 1L8.5 8.5l.94-2.06 2.06-.94-2.06-.94L8.5 2.5l-.94 2.06-2.06.94zm10 10l.94 2.06.94-2.06 2.06-.94-2.06-.94-.94-2.06-.94 2.06-2.06.94z\"/><path d=\"M17.41 7.96l-1.37-1.37c-.4-.4-.92-.59-1.43-.59-.52 0-1.04.2-1.43.59L10.3 9.45l-7.72 7.72c-.78.78-.78 2.05 0 2.83L4 21.41c.39.39.9.59 1.41.59.51 0 1.02-.2 1.41-.59l7.78-7.78 2.81-2.81c.8-.78.8-2.07 0-2.86zM5.41 20L4 18.59l7.72-7.72 1.47 1.35L5.41 20z\"/>\n",
              "  </svg>\n",
              "      </button>\n",
              "      \n",
              "  <style>\n",
              "    .colab-df-container {\n",
              "      display:flex;\n",
              "      flex-wrap:wrap;\n",
              "      gap: 12px;\n",
              "    }\n",
              "\n",
              "    .colab-df-convert {\n",
              "      background-color: #E8F0FE;\n",
              "      border: none;\n",
              "      border-radius: 50%;\n",
              "      cursor: pointer;\n",
              "      display: none;\n",
              "      fill: #1967D2;\n",
              "      height: 32px;\n",
              "      padding: 0 0 0 0;\n",
              "      width: 32px;\n",
              "    }\n",
              "\n",
              "    .colab-df-convert:hover {\n",
              "      background-color: #E2EBFA;\n",
              "      box-shadow: 0px 1px 2px rgba(60, 64, 67, 0.3), 0px 1px 3px 1px rgba(60, 64, 67, 0.15);\n",
              "      fill: #174EA6;\n",
              "    }\n",
              "\n",
              "    [theme=dark] .colab-df-convert {\n",
              "      background-color: #3B4455;\n",
              "      fill: #D2E3FC;\n",
              "    }\n",
              "\n",
              "    [theme=dark] .colab-df-convert:hover {\n",
              "      background-color: #434B5C;\n",
              "      box-shadow: 0px 1px 3px 1px rgba(0, 0, 0, 0.15);\n",
              "      filter: drop-shadow(0px 1px 2px rgba(0, 0, 0, 0.3));\n",
              "      fill: #FFFFFF;\n",
              "    }\n",
              "  </style>\n",
              "\n",
              "      <script>\n",
              "        const buttonEl =\n",
              "          document.querySelector('#df-b33ac492-24e1-4217-acc0-365492706a70 button.colab-df-convert');\n",
              "        buttonEl.style.display =\n",
              "          google.colab.kernel.accessAllowed ? 'block' : 'none';\n",
              "\n",
              "        async function convertToInteractive(key) {\n",
              "          const element = document.querySelector('#df-b33ac492-24e1-4217-acc0-365492706a70');\n",
              "          const dataTable =\n",
              "            await google.colab.kernel.invokeFunction('convertToInteractive',\n",
              "                                                     [key], {});\n",
              "          if (!dataTable) return;\n",
              "\n",
              "          const docLinkHtml = 'Like what you see? Visit the ' +\n",
              "            '<a target=\"_blank\" href=https://colab.research.google.com/notebooks/data_table.ipynb>data table notebook</a>'\n",
              "            + ' to learn more about interactive tables.';\n",
              "          element.innerHTML = '';\n",
              "          dataTable['output_type'] = 'display_data';\n",
              "          await google.colab.output.renderOutput(dataTable, element);\n",
              "          const docLink = document.createElement('div');\n",
              "          docLink.innerHTML = docLinkHtml;\n",
              "          element.appendChild(docLink);\n",
              "        }\n",
              "      </script>\n",
              "    </div>\n",
              "  </div>\n",
              "  "
            ],
            "text/plain": [
              "          Unnamed: 0          label            aon   daily_decr30  \\\n",
              "count  209593.000000  209593.000000  209593.000000  209593.000000   \n",
              "mean   104797.000000       0.875177    8112.343445    5381.402289   \n",
              "std     60504.431823       0.330519   75696.082531    9220.623400   \n",
              "min         1.000000       0.000000     -48.000000     -93.012667   \n",
              "25%     52399.000000       1.000000     246.000000      42.440000   \n",
              "50%    104797.000000       1.000000     527.000000    1469.175667   \n",
              "75%    157195.000000       1.000000     982.000000    7244.000000   \n",
              "max    209593.000000       1.000000  999860.755168  265926.000000   \n",
              "\n",
              "        daily_decr90       rental30       rental90  last_rech_date_ma  \\\n",
              "count  209593.000000  209593.000000  209593.000000      209593.000000   \n",
              "mean     6082.515068    2692.581910    3483.406534        3755.847800   \n",
              "std     10918.812767    4308.586781    5770.461279       53905.892230   \n",
              "min       -93.012667  -23737.140000  -24720.580000         -29.000000   \n",
              "25%        42.692000     280.420000     300.260000           1.000000   \n",
              "50%      1500.000000    1083.570000    1334.000000           3.000000   \n",
              "75%      7802.790000    3356.940000    4201.790000           7.000000   \n",
              "max    320630.000000  198926.110000  200148.110000      998650.377733   \n",
              "\n",
              "       last_rech_date_da  last_rech_amt_ma  ...    cnt_loans30   amnt_loans30  \\\n",
              "count      209593.000000     209593.000000  ...  209593.000000  209593.000000   \n",
              "mean         3712.202921       2064.452797  ...       2.758981      17.952021   \n",
              "std         53374.833430       2370.786034  ...       2.554502      17.379741   \n",
              "min           -29.000000          0.000000  ...       0.000000       0.000000   \n",
              "25%             0.000000        770.000000  ...       1.000000       6.000000   \n",
              "50%             0.000000       1539.000000  ...       2.000000      12.000000   \n",
              "75%             0.000000       2309.000000  ...       4.000000      24.000000   \n",
              "max        999171.809410      55000.000000  ...      50.000000     306.000000   \n",
              "\n",
              "       maxamnt_loans30  medianamnt_loans30    cnt_loans90   amnt_loans90  \\\n",
              "count    209593.000000       209593.000000  209593.000000  209593.000000   \n",
              "mean        274.658747            0.054029      18.520919      23.645398   \n",
              "std        4245.264648            0.218039     224.797423      26.469861   \n",
              "min           0.000000            0.000000       0.000000       0.000000   \n",
              "25%           6.000000            0.000000       1.000000       6.000000   \n",
              "50%           6.000000            0.000000       2.000000      12.000000   \n",
              "75%           6.000000            0.000000       5.000000      30.000000   \n",
              "max       99864.560864            3.000000    4997.517944     438.000000   \n",
              "\n",
              "       maxamnt_loans90  medianamnt_loans90      payback30      payback90  \n",
              "count    209593.000000       209593.000000  209593.000000  209593.000000  \n",
              "mean          6.703134            0.046077       3.398826       4.321485  \n",
              "std           2.103864            0.200692       8.813729      10.308108  \n",
              "min           0.000000            0.000000       0.000000       0.000000  \n",
              "25%           6.000000            0.000000       0.000000       0.000000  \n",
              "50%           6.000000            0.000000       0.000000       1.666667  \n",
              "75%           6.000000            0.000000       3.750000       4.500000  \n",
              "max          12.000000            3.000000     171.500000     171.500000  \n",
              "\n",
              "[8 rows x 34 columns]"
            ]
          },
          "execution_count": 58,
          "metadata": {},
          "output_type": "execute_result"
        }
      ],
      "source": [
        "df.describe()"
      ]
    },
    {
      "cell_type": "markdown",
      "metadata": {
        "id": "JbG_8yOhGH_4"
      },
      "source": [
        "####Dropping the columns which are unnecessary"
      ]
    },
    {
      "cell_type": "code",
      "execution_count": 59,
      "metadata": {
        "id": "mB0Jmxt2D9IU"
      },
      "outputs": [],
      "source": [
        "df.drop('Unnamed: 0',axis=1,inplace=True)\n",
        "df.drop('msisdn',axis=1,inplace=True)\n",
        "df.drop('pcircle',axis=1,inplace=True)"
      ]
    },
    {
      "cell_type": "code",
      "execution_count": 60,
      "metadata": {
        "colab": {
          "base_uri": "https://localhost:8080/"
        },
        "id": "Iu2S412gEAx4",
        "outputId": "3debc13c-e110-465d-f571-b2bd3856c539"
      },
      "outputs": [
        {
          "data": {
            "text/plain": [
              "(209593, 34)"
            ]
          },
          "execution_count": 60,
          "metadata": {},
          "output_type": "execute_result"
        }
      ],
      "source": [
        "df.shape"
      ]
    },
    {
      "cell_type": "code",
      "execution_count": 61,
      "metadata": {
        "colab": {
          "base_uri": "https://localhost:8080/",
          "height": 505
        },
        "id": "rWNk-5zWEVYJ",
        "outputId": "24b50bee-ea24-4256-f6d5-aba1e2d66f0a"
      },
      "outputs": [
        {
          "data": {
            "text/html": [
              "\n",
              "  <div id=\"df-d53d74ee-985a-4248-91b1-f8a6f7835e29\">\n",
              "    <div class=\"colab-df-container\">\n",
              "      <div>\n",
              "<style scoped>\n",
              "    .dataframe tbody tr th:only-of-type {\n",
              "        vertical-align: middle;\n",
              "    }\n",
              "\n",
              "    .dataframe tbody tr th {\n",
              "        vertical-align: top;\n",
              "    }\n",
              "\n",
              "    .dataframe thead th {\n",
              "        text-align: right;\n",
              "    }\n",
              "</style>\n",
              "<table border=\"1\" class=\"dataframe\">\n",
              "  <thead>\n",
              "    <tr style=\"text-align: right;\">\n",
              "      <th></th>\n",
              "      <th>label</th>\n",
              "      <th>aon</th>\n",
              "      <th>daily_decr30</th>\n",
              "      <th>daily_decr90</th>\n",
              "      <th>rental30</th>\n",
              "      <th>rental90</th>\n",
              "      <th>last_rech_date_ma</th>\n",
              "      <th>last_rech_date_da</th>\n",
              "      <th>last_rech_amt_ma</th>\n",
              "      <th>cnt_ma_rech30</th>\n",
              "      <th>...</th>\n",
              "      <th>amnt_loans30</th>\n",
              "      <th>maxamnt_loans30</th>\n",
              "      <th>medianamnt_loans30</th>\n",
              "      <th>cnt_loans90</th>\n",
              "      <th>amnt_loans90</th>\n",
              "      <th>maxamnt_loans90</th>\n",
              "      <th>medianamnt_loans90</th>\n",
              "      <th>payback30</th>\n",
              "      <th>payback90</th>\n",
              "      <th>pdate</th>\n",
              "    </tr>\n",
              "  </thead>\n",
              "  <tbody>\n",
              "    <tr>\n",
              "      <th>count</th>\n",
              "      <td>209593.000000</td>\n",
              "      <td>209593.000000</td>\n",
              "      <td>209593.000000</td>\n",
              "      <td>209593.000000</td>\n",
              "      <td>209593.000000</td>\n",
              "      <td>209593.000000</td>\n",
              "      <td>209593.000000</td>\n",
              "      <td>209593.000000</td>\n",
              "      <td>209593.000000</td>\n",
              "      <td>209593.000000</td>\n",
              "      <td>...</td>\n",
              "      <td>209593.000000</td>\n",
              "      <td>209593.000000</td>\n",
              "      <td>209593.000000</td>\n",
              "      <td>209593.000000</td>\n",
              "      <td>209593.000000</td>\n",
              "      <td>209593.000000</td>\n",
              "      <td>209593.000000</td>\n",
              "      <td>209593.000000</td>\n",
              "      <td>209593.000000</td>\n",
              "      <td>209593</td>\n",
              "    </tr>\n",
              "    <tr>\n",
              "      <th>unique</th>\n",
              "      <td>NaN</td>\n",
              "      <td>NaN</td>\n",
              "      <td>NaN</td>\n",
              "      <td>NaN</td>\n",
              "      <td>NaN</td>\n",
              "      <td>NaN</td>\n",
              "      <td>NaN</td>\n",
              "      <td>NaN</td>\n",
              "      <td>NaN</td>\n",
              "      <td>NaN</td>\n",
              "      <td>...</td>\n",
              "      <td>NaN</td>\n",
              "      <td>NaN</td>\n",
              "      <td>NaN</td>\n",
              "      <td>NaN</td>\n",
              "      <td>NaN</td>\n",
              "      <td>NaN</td>\n",
              "      <td>NaN</td>\n",
              "      <td>NaN</td>\n",
              "      <td>NaN</td>\n",
              "      <td>82</td>\n",
              "    </tr>\n",
              "    <tr>\n",
              "      <th>top</th>\n",
              "      <td>NaN</td>\n",
              "      <td>NaN</td>\n",
              "      <td>NaN</td>\n",
              "      <td>NaN</td>\n",
              "      <td>NaN</td>\n",
              "      <td>NaN</td>\n",
              "      <td>NaN</td>\n",
              "      <td>NaN</td>\n",
              "      <td>NaN</td>\n",
              "      <td>NaN</td>\n",
              "      <td>...</td>\n",
              "      <td>NaN</td>\n",
              "      <td>NaN</td>\n",
              "      <td>NaN</td>\n",
              "      <td>NaN</td>\n",
              "      <td>NaN</td>\n",
              "      <td>NaN</td>\n",
              "      <td>NaN</td>\n",
              "      <td>NaN</td>\n",
              "      <td>NaN</td>\n",
              "      <td>2016-07-04</td>\n",
              "    </tr>\n",
              "    <tr>\n",
              "      <th>freq</th>\n",
              "      <td>NaN</td>\n",
              "      <td>NaN</td>\n",
              "      <td>NaN</td>\n",
              "      <td>NaN</td>\n",
              "      <td>NaN</td>\n",
              "      <td>NaN</td>\n",
              "      <td>NaN</td>\n",
              "      <td>NaN</td>\n",
              "      <td>NaN</td>\n",
              "      <td>NaN</td>\n",
              "      <td>...</td>\n",
              "      <td>NaN</td>\n",
              "      <td>NaN</td>\n",
              "      <td>NaN</td>\n",
              "      <td>NaN</td>\n",
              "      <td>NaN</td>\n",
              "      <td>NaN</td>\n",
              "      <td>NaN</td>\n",
              "      <td>NaN</td>\n",
              "      <td>NaN</td>\n",
              "      <td>3150</td>\n",
              "    </tr>\n",
              "    <tr>\n",
              "      <th>mean</th>\n",
              "      <td>0.875177</td>\n",
              "      <td>8112.343445</td>\n",
              "      <td>5381.402289</td>\n",
              "      <td>6082.515068</td>\n",
              "      <td>2692.581910</td>\n",
              "      <td>3483.406534</td>\n",
              "      <td>3755.847800</td>\n",
              "      <td>3712.202921</td>\n",
              "      <td>2064.452797</td>\n",
              "      <td>3.978057</td>\n",
              "      <td>...</td>\n",
              "      <td>17.952021</td>\n",
              "      <td>274.658747</td>\n",
              "      <td>0.054029</td>\n",
              "      <td>18.520919</td>\n",
              "      <td>23.645398</td>\n",
              "      <td>6.703134</td>\n",
              "      <td>0.046077</td>\n",
              "      <td>3.398826</td>\n",
              "      <td>4.321485</td>\n",
              "      <td>NaN</td>\n",
              "    </tr>\n",
              "    <tr>\n",
              "      <th>std</th>\n",
              "      <td>0.330519</td>\n",
              "      <td>75696.082531</td>\n",
              "      <td>9220.623400</td>\n",
              "      <td>10918.812767</td>\n",
              "      <td>4308.586781</td>\n",
              "      <td>5770.461279</td>\n",
              "      <td>53905.892230</td>\n",
              "      <td>53374.833430</td>\n",
              "      <td>2370.786034</td>\n",
              "      <td>4.256090</td>\n",
              "      <td>...</td>\n",
              "      <td>17.379741</td>\n",
              "      <td>4245.264648</td>\n",
              "      <td>0.218039</td>\n",
              "      <td>224.797423</td>\n",
              "      <td>26.469861</td>\n",
              "      <td>2.103864</td>\n",
              "      <td>0.200692</td>\n",
              "      <td>8.813729</td>\n",
              "      <td>10.308108</td>\n",
              "      <td>NaN</td>\n",
              "    </tr>\n",
              "    <tr>\n",
              "      <th>min</th>\n",
              "      <td>0.000000</td>\n",
              "      <td>-48.000000</td>\n",
              "      <td>-93.012667</td>\n",
              "      <td>-93.012667</td>\n",
              "      <td>-23737.140000</td>\n",
              "      <td>-24720.580000</td>\n",
              "      <td>-29.000000</td>\n",
              "      <td>-29.000000</td>\n",
              "      <td>0.000000</td>\n",
              "      <td>0.000000</td>\n",
              "      <td>...</td>\n",
              "      <td>0.000000</td>\n",
              "      <td>0.000000</td>\n",
              "      <td>0.000000</td>\n",
              "      <td>0.000000</td>\n",
              "      <td>0.000000</td>\n",
              "      <td>0.000000</td>\n",
              "      <td>0.000000</td>\n",
              "      <td>0.000000</td>\n",
              "      <td>0.000000</td>\n",
              "      <td>NaN</td>\n",
              "    </tr>\n",
              "    <tr>\n",
              "      <th>25%</th>\n",
              "      <td>1.000000</td>\n",
              "      <td>246.000000</td>\n",
              "      <td>42.440000</td>\n",
              "      <td>42.692000</td>\n",
              "      <td>280.420000</td>\n",
              "      <td>300.260000</td>\n",
              "      <td>1.000000</td>\n",
              "      <td>0.000000</td>\n",
              "      <td>770.000000</td>\n",
              "      <td>1.000000</td>\n",
              "      <td>...</td>\n",
              "      <td>6.000000</td>\n",
              "      <td>6.000000</td>\n",
              "      <td>0.000000</td>\n",
              "      <td>1.000000</td>\n",
              "      <td>6.000000</td>\n",
              "      <td>6.000000</td>\n",
              "      <td>0.000000</td>\n",
              "      <td>0.000000</td>\n",
              "      <td>0.000000</td>\n",
              "      <td>NaN</td>\n",
              "    </tr>\n",
              "    <tr>\n",
              "      <th>50%</th>\n",
              "      <td>1.000000</td>\n",
              "      <td>527.000000</td>\n",
              "      <td>1469.175667</td>\n",
              "      <td>1500.000000</td>\n",
              "      <td>1083.570000</td>\n",
              "      <td>1334.000000</td>\n",
              "      <td>3.000000</td>\n",
              "      <td>0.000000</td>\n",
              "      <td>1539.000000</td>\n",
              "      <td>3.000000</td>\n",
              "      <td>...</td>\n",
              "      <td>12.000000</td>\n",
              "      <td>6.000000</td>\n",
              "      <td>0.000000</td>\n",
              "      <td>2.000000</td>\n",
              "      <td>12.000000</td>\n",
              "      <td>6.000000</td>\n",
              "      <td>0.000000</td>\n",
              "      <td>0.000000</td>\n",
              "      <td>1.666667</td>\n",
              "      <td>NaN</td>\n",
              "    </tr>\n",
              "    <tr>\n",
              "      <th>75%</th>\n",
              "      <td>1.000000</td>\n",
              "      <td>982.000000</td>\n",
              "      <td>7244.000000</td>\n",
              "      <td>7802.790000</td>\n",
              "      <td>3356.940000</td>\n",
              "      <td>4201.790000</td>\n",
              "      <td>7.000000</td>\n",
              "      <td>0.000000</td>\n",
              "      <td>2309.000000</td>\n",
              "      <td>5.000000</td>\n",
              "      <td>...</td>\n",
              "      <td>24.000000</td>\n",
              "      <td>6.000000</td>\n",
              "      <td>0.000000</td>\n",
              "      <td>5.000000</td>\n",
              "      <td>30.000000</td>\n",
              "      <td>6.000000</td>\n",
              "      <td>0.000000</td>\n",
              "      <td>3.750000</td>\n",
              "      <td>4.500000</td>\n",
              "      <td>NaN</td>\n",
              "    </tr>\n",
              "    <tr>\n",
              "      <th>max</th>\n",
              "      <td>1.000000</td>\n",
              "      <td>999860.755168</td>\n",
              "      <td>265926.000000</td>\n",
              "      <td>320630.000000</td>\n",
              "      <td>198926.110000</td>\n",
              "      <td>200148.110000</td>\n",
              "      <td>998650.377733</td>\n",
              "      <td>999171.809410</td>\n",
              "      <td>55000.000000</td>\n",
              "      <td>203.000000</td>\n",
              "      <td>...</td>\n",
              "      <td>306.000000</td>\n",
              "      <td>99864.560864</td>\n",
              "      <td>3.000000</td>\n",
              "      <td>4997.517944</td>\n",
              "      <td>438.000000</td>\n",
              "      <td>12.000000</td>\n",
              "      <td>3.000000</td>\n",
              "      <td>171.500000</td>\n",
              "      <td>171.500000</td>\n",
              "      <td>NaN</td>\n",
              "    </tr>\n",
              "  </tbody>\n",
              "</table>\n",
              "<p>11 rows × 34 columns</p>\n",
              "</div>\n",
              "      <button class=\"colab-df-convert\" onclick=\"convertToInteractive('df-d53d74ee-985a-4248-91b1-f8a6f7835e29')\"\n",
              "              title=\"Convert this dataframe to an interactive table.\"\n",
              "              style=\"display:none;\">\n",
              "        \n",
              "  <svg xmlns=\"http://www.w3.org/2000/svg\" height=\"24px\"viewBox=\"0 0 24 24\"\n",
              "       width=\"24px\">\n",
              "    <path d=\"M0 0h24v24H0V0z\" fill=\"none\"/>\n",
              "    <path d=\"M18.56 5.44l.94 2.06.94-2.06 2.06-.94-2.06-.94-.94-2.06-.94 2.06-2.06.94zm-11 1L8.5 8.5l.94-2.06 2.06-.94-2.06-.94L8.5 2.5l-.94 2.06-2.06.94zm10 10l.94 2.06.94-2.06 2.06-.94-2.06-.94-.94-2.06-.94 2.06-2.06.94z\"/><path d=\"M17.41 7.96l-1.37-1.37c-.4-.4-.92-.59-1.43-.59-.52 0-1.04.2-1.43.59L10.3 9.45l-7.72 7.72c-.78.78-.78 2.05 0 2.83L4 21.41c.39.39.9.59 1.41.59.51 0 1.02-.2 1.41-.59l7.78-7.78 2.81-2.81c.8-.78.8-2.07 0-2.86zM5.41 20L4 18.59l7.72-7.72 1.47 1.35L5.41 20z\"/>\n",
              "  </svg>\n",
              "      </button>\n",
              "      \n",
              "  <style>\n",
              "    .colab-df-container {\n",
              "      display:flex;\n",
              "      flex-wrap:wrap;\n",
              "      gap: 12px;\n",
              "    }\n",
              "\n",
              "    .colab-df-convert {\n",
              "      background-color: #E8F0FE;\n",
              "      border: none;\n",
              "      border-radius: 50%;\n",
              "      cursor: pointer;\n",
              "      display: none;\n",
              "      fill: #1967D2;\n",
              "      height: 32px;\n",
              "      padding: 0 0 0 0;\n",
              "      width: 32px;\n",
              "    }\n",
              "\n",
              "    .colab-df-convert:hover {\n",
              "      background-color: #E2EBFA;\n",
              "      box-shadow: 0px 1px 2px rgba(60, 64, 67, 0.3), 0px 1px 3px 1px rgba(60, 64, 67, 0.15);\n",
              "      fill: #174EA6;\n",
              "    }\n",
              "\n",
              "    [theme=dark] .colab-df-convert {\n",
              "      background-color: #3B4455;\n",
              "      fill: #D2E3FC;\n",
              "    }\n",
              "\n",
              "    [theme=dark] .colab-df-convert:hover {\n",
              "      background-color: #434B5C;\n",
              "      box-shadow: 0px 1px 3px 1px rgba(0, 0, 0, 0.15);\n",
              "      filter: drop-shadow(0px 1px 2px rgba(0, 0, 0, 0.3));\n",
              "      fill: #FFFFFF;\n",
              "    }\n",
              "  </style>\n",
              "\n",
              "      <script>\n",
              "        const buttonEl =\n",
              "          document.querySelector('#df-d53d74ee-985a-4248-91b1-f8a6f7835e29 button.colab-df-convert');\n",
              "        buttonEl.style.display =\n",
              "          google.colab.kernel.accessAllowed ? 'block' : 'none';\n",
              "\n",
              "        async function convertToInteractive(key) {\n",
              "          const element = document.querySelector('#df-d53d74ee-985a-4248-91b1-f8a6f7835e29');\n",
              "          const dataTable =\n",
              "            await google.colab.kernel.invokeFunction('convertToInteractive',\n",
              "                                                     [key], {});\n",
              "          if (!dataTable) return;\n",
              "\n",
              "          const docLinkHtml = 'Like what you see? Visit the ' +\n",
              "            '<a target=\"_blank\" href=https://colab.research.google.com/notebooks/data_table.ipynb>data table notebook</a>'\n",
              "            + ' to learn more about interactive tables.';\n",
              "          element.innerHTML = '';\n",
              "          dataTable['output_type'] = 'display_data';\n",
              "          await google.colab.output.renderOutput(dataTable, element);\n",
              "          const docLink = document.createElement('div');\n",
              "          docLink.innerHTML = docLinkHtml;\n",
              "          element.appendChild(docLink);\n",
              "        }\n",
              "      </script>\n",
              "    </div>\n",
              "  </div>\n",
              "  "
            ],
            "text/plain": [
              "                label            aon   daily_decr30   daily_decr90  \\\n",
              "count   209593.000000  209593.000000  209593.000000  209593.000000   \n",
              "unique            NaN            NaN            NaN            NaN   \n",
              "top               NaN            NaN            NaN            NaN   \n",
              "freq              NaN            NaN            NaN            NaN   \n",
              "mean         0.875177    8112.343445    5381.402289    6082.515068   \n",
              "std          0.330519   75696.082531    9220.623400   10918.812767   \n",
              "min          0.000000     -48.000000     -93.012667     -93.012667   \n",
              "25%          1.000000     246.000000      42.440000      42.692000   \n",
              "50%          1.000000     527.000000    1469.175667    1500.000000   \n",
              "75%          1.000000     982.000000    7244.000000    7802.790000   \n",
              "max          1.000000  999860.755168  265926.000000  320630.000000   \n",
              "\n",
              "             rental30       rental90  last_rech_date_ma  last_rech_date_da  \\\n",
              "count   209593.000000  209593.000000      209593.000000      209593.000000   \n",
              "unique            NaN            NaN                NaN                NaN   \n",
              "top               NaN            NaN                NaN                NaN   \n",
              "freq              NaN            NaN                NaN                NaN   \n",
              "mean      2692.581910    3483.406534        3755.847800        3712.202921   \n",
              "std       4308.586781    5770.461279       53905.892230       53374.833430   \n",
              "min     -23737.140000  -24720.580000         -29.000000         -29.000000   \n",
              "25%        280.420000     300.260000           1.000000           0.000000   \n",
              "50%       1083.570000    1334.000000           3.000000           0.000000   \n",
              "75%       3356.940000    4201.790000           7.000000           0.000000   \n",
              "max     198926.110000  200148.110000      998650.377733      999171.809410   \n",
              "\n",
              "        last_rech_amt_ma  cnt_ma_rech30  ...   amnt_loans30  maxamnt_loans30  \\\n",
              "count      209593.000000  209593.000000  ...  209593.000000    209593.000000   \n",
              "unique               NaN            NaN  ...            NaN              NaN   \n",
              "top                  NaN            NaN  ...            NaN              NaN   \n",
              "freq                 NaN            NaN  ...            NaN              NaN   \n",
              "mean         2064.452797       3.978057  ...      17.952021       274.658747   \n",
              "std          2370.786034       4.256090  ...      17.379741      4245.264648   \n",
              "min             0.000000       0.000000  ...       0.000000         0.000000   \n",
              "25%           770.000000       1.000000  ...       6.000000         6.000000   \n",
              "50%          1539.000000       3.000000  ...      12.000000         6.000000   \n",
              "75%          2309.000000       5.000000  ...      24.000000         6.000000   \n",
              "max         55000.000000     203.000000  ...     306.000000     99864.560864   \n",
              "\n",
              "        medianamnt_loans30    cnt_loans90   amnt_loans90  maxamnt_loans90  \\\n",
              "count        209593.000000  209593.000000  209593.000000    209593.000000   \n",
              "unique                 NaN            NaN            NaN              NaN   \n",
              "top                    NaN            NaN            NaN              NaN   \n",
              "freq                   NaN            NaN            NaN              NaN   \n",
              "mean              0.054029      18.520919      23.645398         6.703134   \n",
              "std               0.218039     224.797423      26.469861         2.103864   \n",
              "min               0.000000       0.000000       0.000000         0.000000   \n",
              "25%               0.000000       1.000000       6.000000         6.000000   \n",
              "50%               0.000000       2.000000      12.000000         6.000000   \n",
              "75%               0.000000       5.000000      30.000000         6.000000   \n",
              "max               3.000000    4997.517944     438.000000        12.000000   \n",
              "\n",
              "        medianamnt_loans90      payback30      payback90       pdate  \n",
              "count        209593.000000  209593.000000  209593.000000      209593  \n",
              "unique                 NaN            NaN            NaN          82  \n",
              "top                    NaN            NaN            NaN  2016-07-04  \n",
              "freq                   NaN            NaN            NaN        3150  \n",
              "mean              0.046077       3.398826       4.321485         NaN  \n",
              "std               0.200692       8.813729      10.308108         NaN  \n",
              "min               0.000000       0.000000       0.000000         NaN  \n",
              "25%               0.000000       0.000000       0.000000         NaN  \n",
              "50%               0.000000       0.000000       1.666667         NaN  \n",
              "75%               0.000000       3.750000       4.500000         NaN  \n",
              "max               3.000000     171.500000     171.500000         NaN  \n",
              "\n",
              "[11 rows x 34 columns]"
            ]
          },
          "execution_count": 61,
          "metadata": {},
          "output_type": "execute_result"
        }
      ],
      "source": [
        "df.describe(include='all')"
      ]
    },
    {
      "cell_type": "markdown",
      "metadata": {
        "id": "mFyzxhri_DKS"
      },
      "source": [
        "##Null value count"
      ]
    },
    {
      "cell_type": "code",
      "execution_count": 62,
      "metadata": {
        "colab": {
          "base_uri": "https://localhost:8080/"
        },
        "id": "cnqa6Tx7-9ct",
        "outputId": "012aa54d-570d-4d0d-f580-a5702f8026cc"
      },
      "outputs": [
        {
          "data": {
            "text/plain": [
              "label                   0\n",
              "aon                     0\n",
              "daily_decr30            0\n",
              "daily_decr90            0\n",
              "rental30                0\n",
              "rental90                0\n",
              "last_rech_date_ma       0\n",
              "last_rech_date_da       0\n",
              "last_rech_amt_ma        0\n",
              "cnt_ma_rech30           0\n",
              "fr_ma_rech30            0\n",
              "sumamnt_ma_rech30       0\n",
              "medianamnt_ma_rech30    0\n",
              "medianmarechprebal30    0\n",
              "cnt_ma_rech90           0\n",
              "fr_ma_rech90            0\n",
              "sumamnt_ma_rech90       0\n",
              "medianamnt_ma_rech90    0\n",
              "medianmarechprebal90    0\n",
              "cnt_da_rech30           0\n",
              "fr_da_rech30            0\n",
              "cnt_da_rech90           0\n",
              "fr_da_rech90            0\n",
              "cnt_loans30             0\n",
              "amnt_loans30            0\n",
              "maxamnt_loans30         0\n",
              "medianamnt_loans30      0\n",
              "cnt_loans90             0\n",
              "amnt_loans90            0\n",
              "maxamnt_loans90         0\n",
              "medianamnt_loans90      0\n",
              "payback30               0\n",
              "payback90               0\n",
              "pdate                   0\n",
              "dtype: int64"
            ]
          },
          "execution_count": 62,
          "metadata": {},
          "output_type": "execute_result"
        }
      ],
      "source": [
        "df.isnull().sum()"
      ]
    },
    {
      "cell_type": "markdown",
      "metadata": {
        "id": "ZSJMt4w0_Uez"
      },
      "source": [
        "### Data visualisation"
      ]
    },
    {
      "cell_type": "code",
      "execution_count": 146,
      "metadata": {
        "colab": {
          "base_uri": "https://localhost:8080/",
          "height": 416
        },
        "id": "8nhyYa1__KGp",
        "outputId": "94267227-3319-4387-b49a-c87d589986f1"
      },
      "outputs": [
        {
          "data": {
            "text/plain": [
              "<matplotlib.axes._subplots.AxesSubplot at 0x7f0655a87c90>"
            ]
          },
          "execution_count": 146,
          "metadata": {},
          "output_type": "execute_result"
        },
        {
          "data": {
            "image/png": "[encoded data removed]",
            "text/plain": [
              "<Figure size 432x288 with 2 Axes>"
            ]
          },
          "metadata": {
            "needs_background": "light"
          },
          "output_type": "display_data"
        }
      ],
      "source": [
        "sns.heatmap(df.isnull(), yticklabels=False, cmap='BuPu')"
      ]
    },
    {
      "cell_type": "code",
      "execution_count": 156,
      "metadata": {
        "colab": {
          "base_uri": "https://localhost:8080/",
          "height": 742
        },
        "id": "idXr8ZyaW_73",
        "outputId": "6f92f3a0-2b3a-47df-fcfe-566c142dc4aa"
      },
      "outputs": [
        {
          "data": {
            "text/plain": [
              "<matplotlib.axes._subplots.AxesSubplot at 0x7f06530baa10>"
            ]
          },
          "execution_count": 156,
          "metadata": {},
          "output_type": "execute_result"
        },
        {
          "data": {
            "image/png": "[encoded data removed]",
            "text/plain": [
              "<Figure size 1440x720 with 2 Axes>"
            ]
          },
          "metadata": {
            "needs_background": "light"
          },
          "output_type": "display_data"
        }
      ],
      "source": [
        "corrmat=df.corr()\n",
        "top_corr_features=corrmat.index\n",
        "\n",
        "df[top_corr_features].corr()\n",
        "\n",
        "plt.figure(figsize=(20,10))\n",
        "sns.heatmap(df[top_corr_features].corr(),cmap=\"CMRmap\", linewidths=.99)"
      ]
    },
    {
      "cell_type": "code",
      "execution_count": 153,
      "metadata": {
        "colab": {
          "base_uri": "https://localhost:8080/",
          "height": 302
        },
        "id": "yGuUkr7t_O1k",
        "outputId": "57b4824f-82ac-4fc0-a36d-e11c8ba54f56"
      },
      "outputs": [
        {
          "data": {
            "text/plain": [
              "<matplotlib.axes._subplots.AxesSubplot at 0x7f0653128e90>"
            ]
          },
          "execution_count": 153,
          "metadata": {},
          "output_type": "execute_result"
        },
        {
          "data": {
            "image/png": "[encoded data removed]",
            "text/plain": [
              "<Figure size 432x288 with 1 Axes>"
            ]
          },
          "metadata": {
            "needs_background": "light"
          },
          "output_type": "display_data"
        }
      ],
      "source": [
        "sns.barplot(x='pdate',y='label',data=df)"
      ]
    },
    {
      "cell_type": "markdown",
      "metadata": {
        "id": "Gg-YBT6iHPcv"
      },
      "source": [
        "#### Here , we will convert all the NaN values to integer and then to their mean values. (Except the 'pdate' column)\n"
      ]
    },
    {
      "cell_type": "code",
      "execution_count": 65,
      "metadata": {
        "id": "yY-3r0nWFAGU"
      },
      "outputs": [],
      "source": [
        "for i in df.columns:\n",
        "    if i=='pdate':\n",
        "        continue\n",
        "    else:\n",
        "        df[i]=pd.to_numeric(df[i],errors='coerce')"
      ]
    },
    {
      "cell_type": "code",
      "execution_count": 67,
      "metadata": {
        "id": "B0x_YX9XHsPz"
      },
      "outputs": [],
      "source": [
        "for i in df.columns:\n",
        "  if i=='pdate':\n",
        "    continue\n",
        "  else:\n",
        "    df[i].fillna(df[i].median(),inplace=True)"
      ]
    },
    {
      "cell_type": "code",
      "execution_count": 68,
      "metadata": {
        "colab": {
          "base_uri": "https://localhost:8080/",
          "height": 505
        },
        "id": "xJ8tjDrYHxSe",
        "outputId": "c796334f-23cb-443e-ab84-1cfad35be8fa"
      },
      "outputs": [
        {
          "data": {
            "text/html": [
              "\n",
              "  <div id=\"df-79b8affb-f01f-4e9c-bc40-312a5bfabd11\">\n",
              "    <div class=\"colab-df-container\">\n",
              "      <div>\n",
              "<style scoped>\n",
              "    .dataframe tbody tr th:only-of-type {\n",
              "        vertical-align: middle;\n",
              "    }\n",
              "\n",
              "    .dataframe tbody tr th {\n",
              "        vertical-align: top;\n",
              "    }\n",
              "\n",
              "    .dataframe thead th {\n",
              "        text-align: right;\n",
              "    }\n",
              "</style>\n",
              "<table border=\"1\" class=\"dataframe\">\n",
              "  <thead>\n",
              "    <tr style=\"text-align: right;\">\n",
              "      <th></th>\n",
              "      <th>label</th>\n",
              "      <th>aon</th>\n",
              "      <th>daily_decr30</th>\n",
              "      <th>daily_decr90</th>\n",
              "      <th>rental30</th>\n",
              "      <th>rental90</th>\n",
              "      <th>last_rech_date_ma</th>\n",
              "      <th>last_rech_date_da</th>\n",
              "      <th>last_rech_amt_ma</th>\n",
              "      <th>cnt_ma_rech30</th>\n",
              "      <th>...</th>\n",
              "      <th>amnt_loans30</th>\n",
              "      <th>maxamnt_loans30</th>\n",
              "      <th>medianamnt_loans30</th>\n",
              "      <th>cnt_loans90</th>\n",
              "      <th>amnt_loans90</th>\n",
              "      <th>maxamnt_loans90</th>\n",
              "      <th>medianamnt_loans90</th>\n",
              "      <th>payback30</th>\n",
              "      <th>payback90</th>\n",
              "      <th>pdate</th>\n",
              "    </tr>\n",
              "  </thead>\n",
              "  <tbody>\n",
              "    <tr>\n",
              "      <th>count</th>\n",
              "      <td>209593.000000</td>\n",
              "      <td>209593.000000</td>\n",
              "      <td>209593.000000</td>\n",
              "      <td>209593.000000</td>\n",
              "      <td>209593.000000</td>\n",
              "      <td>209593.000000</td>\n",
              "      <td>209593.000000</td>\n",
              "      <td>209593.000000</td>\n",
              "      <td>209593.000000</td>\n",
              "      <td>209593.000000</td>\n",
              "      <td>...</td>\n",
              "      <td>209593.000000</td>\n",
              "      <td>209593.000000</td>\n",
              "      <td>209593.000000</td>\n",
              "      <td>209593.000000</td>\n",
              "      <td>209593.000000</td>\n",
              "      <td>209593.000000</td>\n",
              "      <td>209593.000000</td>\n",
              "      <td>209593.000000</td>\n",
              "      <td>209593.000000</td>\n",
              "      <td>209593</td>\n",
              "    </tr>\n",
              "    <tr>\n",
              "      <th>unique</th>\n",
              "      <td>NaN</td>\n",
              "      <td>NaN</td>\n",
              "      <td>NaN</td>\n",
              "      <td>NaN</td>\n",
              "      <td>NaN</td>\n",
              "      <td>NaN</td>\n",
              "      <td>NaN</td>\n",
              "      <td>NaN</td>\n",
              "      <td>NaN</td>\n",
              "      <td>NaN</td>\n",
              "      <td>...</td>\n",
              "      <td>NaN</td>\n",
              "      <td>NaN</td>\n",
              "      <td>NaN</td>\n",
              "      <td>NaN</td>\n",
              "      <td>NaN</td>\n",
              "      <td>NaN</td>\n",
              "      <td>NaN</td>\n",
              "      <td>NaN</td>\n",
              "      <td>NaN</td>\n",
              "      <td>82</td>\n",
              "    </tr>\n",
              "    <tr>\n",
              "      <th>top</th>\n",
              "      <td>NaN</td>\n",
              "      <td>NaN</td>\n",
              "      <td>NaN</td>\n",
              "      <td>NaN</td>\n",
              "      <td>NaN</td>\n",
              "      <td>NaN</td>\n",
              "      <td>NaN</td>\n",
              "      <td>NaN</td>\n",
              "      <td>NaN</td>\n",
              "      <td>NaN</td>\n",
              "      <td>...</td>\n",
              "      <td>NaN</td>\n",
              "      <td>NaN</td>\n",
              "      <td>NaN</td>\n",
              "      <td>NaN</td>\n",
              "      <td>NaN</td>\n",
              "      <td>NaN</td>\n",
              "      <td>NaN</td>\n",
              "      <td>NaN</td>\n",
              "      <td>NaN</td>\n",
              "      <td>2016-07-04</td>\n",
              "    </tr>\n",
              "    <tr>\n",
              "      <th>freq</th>\n",
              "      <td>NaN</td>\n",
              "      <td>NaN</td>\n",
              "      <td>NaN</td>\n",
              "      <td>NaN</td>\n",
              "      <td>NaN</td>\n",
              "      <td>NaN</td>\n",
              "      <td>NaN</td>\n",
              "      <td>NaN</td>\n",
              "      <td>NaN</td>\n",
              "      <td>NaN</td>\n",
              "      <td>...</td>\n",
              "      <td>NaN</td>\n",
              "      <td>NaN</td>\n",
              "      <td>NaN</td>\n",
              "      <td>NaN</td>\n",
              "      <td>NaN</td>\n",
              "      <td>NaN</td>\n",
              "      <td>NaN</td>\n",
              "      <td>NaN</td>\n",
              "      <td>NaN</td>\n",
              "      <td>3150</td>\n",
              "    </tr>\n",
              "    <tr>\n",
              "      <th>mean</th>\n",
              "      <td>0.875177</td>\n",
              "      <td>8112.343445</td>\n",
              "      <td>5381.402289</td>\n",
              "      <td>6082.515068</td>\n",
              "      <td>2692.581910</td>\n",
              "      <td>3483.406534</td>\n",
              "      <td>3755.847800</td>\n",
              "      <td>3712.202921</td>\n",
              "      <td>2064.452797</td>\n",
              "      <td>3.978057</td>\n",
              "      <td>...</td>\n",
              "      <td>17.952021</td>\n",
              "      <td>274.658747</td>\n",
              "      <td>0.054029</td>\n",
              "      <td>18.520919</td>\n",
              "      <td>23.645398</td>\n",
              "      <td>6.703134</td>\n",
              "      <td>0.046077</td>\n",
              "      <td>3.398826</td>\n",
              "      <td>4.321485</td>\n",
              "      <td>NaN</td>\n",
              "    </tr>\n",
              "    <tr>\n",
              "      <th>std</th>\n",
              "      <td>0.330519</td>\n",
              "      <td>75696.082531</td>\n",
              "      <td>9220.623400</td>\n",
              "      <td>10918.812767</td>\n",
              "      <td>4308.586781</td>\n",
              "      <td>5770.461279</td>\n",
              "      <td>53905.892230</td>\n",
              "      <td>53374.833430</td>\n",
              "      <td>2370.786034</td>\n",
              "      <td>4.256090</td>\n",
              "      <td>...</td>\n",
              "      <td>17.379741</td>\n",
              "      <td>4245.264648</td>\n",
              "      <td>0.218039</td>\n",
              "      <td>224.797423</td>\n",
              "      <td>26.469861</td>\n",
              "      <td>2.103864</td>\n",
              "      <td>0.200692</td>\n",
              "      <td>8.813729</td>\n",
              "      <td>10.308108</td>\n",
              "      <td>NaN</td>\n",
              "    </tr>\n",
              "    <tr>\n",
              "      <th>min</th>\n",
              "      <td>0.000000</td>\n",
              "      <td>-48.000000</td>\n",
              "      <td>-93.012667</td>\n",
              "      <td>-93.012667</td>\n",
              "      <td>-23737.140000</td>\n",
              "      <td>-24720.580000</td>\n",
              "      <td>-29.000000</td>\n",
              "      <td>-29.000000</td>\n",
              "      <td>0.000000</td>\n",
              "      <td>0.000000</td>\n",
              "      <td>...</td>\n",
              "      <td>0.000000</td>\n",
              "      <td>0.000000</td>\n",
              "      <td>0.000000</td>\n",
              "      <td>0.000000</td>\n",
              "      <td>0.000000</td>\n",
              "      <td>0.000000</td>\n",
              "      <td>0.000000</td>\n",
              "      <td>0.000000</td>\n",
              "      <td>0.000000</td>\n",
              "      <td>NaN</td>\n",
              "    </tr>\n",
              "    <tr>\n",
              "      <th>25%</th>\n",
              "      <td>1.000000</td>\n",
              "      <td>246.000000</td>\n",
              "      <td>42.440000</td>\n",
              "      <td>42.692000</td>\n",
              "      <td>280.420000</td>\n",
              "      <td>300.260000</td>\n",
              "      <td>1.000000</td>\n",
              "      <td>0.000000</td>\n",
              "      <td>770.000000</td>\n",
              "      <td>1.000000</td>\n",
              "      <td>...</td>\n",
              "      <td>6.000000</td>\n",
              "      <td>6.000000</td>\n",
              "      <td>0.000000</td>\n",
              "      <td>1.000000</td>\n",
              "      <td>6.000000</td>\n",
              "      <td>6.000000</td>\n",
              "      <td>0.000000</td>\n",
              "      <td>0.000000</td>\n",
              "      <td>0.000000</td>\n",
              "      <td>NaN</td>\n",
              "    </tr>\n",
              "    <tr>\n",
              "      <th>50%</th>\n",
              "      <td>1.000000</td>\n",
              "      <td>527.000000</td>\n",
              "      <td>1469.175667</td>\n",
              "      <td>1500.000000</td>\n",
              "      <td>1083.570000</td>\n",
              "      <td>1334.000000</td>\n",
              "      <td>3.000000</td>\n",
              "      <td>0.000000</td>\n",
              "      <td>1539.000000</td>\n",
              "      <td>3.000000</td>\n",
              "      <td>...</td>\n",
              "      <td>12.000000</td>\n",
              "      <td>6.000000</td>\n",
              "      <td>0.000000</td>\n",
              "      <td>2.000000</td>\n",
              "      <td>12.000000</td>\n",
              "      <td>6.000000</td>\n",
              "      <td>0.000000</td>\n",
              "      <td>0.000000</td>\n",
              "      <td>1.666667</td>\n",
              "      <td>NaN</td>\n",
              "    </tr>\n",
              "    <tr>\n",
              "      <th>75%</th>\n",
              "      <td>1.000000</td>\n",
              "      <td>982.000000</td>\n",
              "      <td>7244.000000</td>\n",
              "      <td>7802.790000</td>\n",
              "      <td>3356.940000</td>\n",
              "      <td>4201.790000</td>\n",
              "      <td>7.000000</td>\n",
              "      <td>0.000000</td>\n",
              "      <td>2309.000000</td>\n",
              "      <td>5.000000</td>\n",
              "      <td>...</td>\n",
              "      <td>24.000000</td>\n",
              "      <td>6.000000</td>\n",
              "      <td>0.000000</td>\n",
              "      <td>5.000000</td>\n",
              "      <td>30.000000</td>\n",
              "      <td>6.000000</td>\n",
              "      <td>0.000000</td>\n",
              "      <td>3.750000</td>\n",
              "      <td>4.500000</td>\n",
              "      <td>NaN</td>\n",
              "    </tr>\n",
              "    <tr>\n",
              "      <th>max</th>\n",
              "      <td>1.000000</td>\n",
              "      <td>999860.755168</td>\n",
              "      <td>265926.000000</td>\n",
              "      <td>320630.000000</td>\n",
              "      <td>198926.110000</td>\n",
              "      <td>200148.110000</td>\n",
              "      <td>998650.377733</td>\n",
              "      <td>999171.809410</td>\n",
              "      <td>55000.000000</td>\n",
              "      <td>203.000000</td>\n",
              "      <td>...</td>\n",
              "      <td>306.000000</td>\n",
              "      <td>99864.560864</td>\n",
              "      <td>3.000000</td>\n",
              "      <td>4997.517944</td>\n",
              "      <td>438.000000</td>\n",
              "      <td>12.000000</td>\n",
              "      <td>3.000000</td>\n",
              "      <td>171.500000</td>\n",
              "      <td>171.500000</td>\n",
              "      <td>NaN</td>\n",
              "    </tr>\n",
              "  </tbody>\n",
              "</table>\n",
              "<p>11 rows × 34 columns</p>\n",
              "</div>\n",
              "      <button class=\"colab-df-convert\" onclick=\"convertToInteractive('df-79b8affb-f01f-4e9c-bc40-312a5bfabd11')\"\n",
              "              title=\"Convert this dataframe to an interactive table.\"\n",
              "              style=\"display:none;\">\n",
              "        \n",
              "  <svg xmlns=\"http://www.w3.org/2000/svg\" height=\"24px\"viewBox=\"0 0 24 24\"\n",
              "       width=\"24px\">\n",
              "    <path d=\"M0 0h24v24H0V0z\" fill=\"none\"/>\n",
              "    <path d=\"M18.56 5.44l.94 2.06.94-2.06 2.06-.94-2.06-.94-.94-2.06-.94 2.06-2.06.94zm-11 1L8.5 8.5l.94-2.06 2.06-.94-2.06-.94L8.5 2.5l-.94 2.06-2.06.94zm10 10l.94 2.06.94-2.06 2.06-.94-2.06-.94-.94-2.06-.94 2.06-2.06.94z\"/><path d=\"M17.41 7.96l-1.37-1.37c-.4-.4-.92-.59-1.43-.59-.52 0-1.04.2-1.43.59L10.3 9.45l-7.72 7.72c-.78.78-.78 2.05 0 2.83L4 21.41c.39.39.9.59 1.41.59.51 0 1.02-.2 1.41-.59l7.78-7.78 2.81-2.81c.8-.78.8-2.07 0-2.86zM5.41 20L4 18.59l7.72-7.72 1.47 1.35L5.41 20z\"/>\n",
              "  </svg>\n",
              "      </button>\n",
              "      \n",
              "  <style>\n",
              "    .colab-df-container {\n",
              "      display:flex;\n",
              "      flex-wrap:wrap;\n",
              "      gap: 12px;\n",
              "    }\n",
              "\n",
              "    .colab-df-convert {\n",
              "      background-color: #E8F0FE;\n",
              "      border: none;\n",
              "      border-radius: 50%;\n",
              "      cursor: pointer;\n",
              "      display: none;\n",
              "      fill: #1967D2;\n",
              "      height: 32px;\n",
              "      padding: 0 0 0 0;\n",
              "      width: 32px;\n",
              "    }\n",
              "\n",
              "    .colab-df-convert:hover {\n",
              "      background-color: #E2EBFA;\n",
              "      box-shadow: 0px 1px 2px rgba(60, 64, 67, 0.3), 0px 1px 3px 1px rgba(60, 64, 67, 0.15);\n",
              "      fill: #174EA6;\n",
              "    }\n",
              "\n",
              "    [theme=dark] .colab-df-convert {\n",
              "      background-color: #3B4455;\n",
              "      fill: #D2E3FC;\n",
              "    }\n",
              "\n",
              "    [theme=dark] .colab-df-convert:hover {\n",
              "      background-color: #434B5C;\n",
              "      box-shadow: 0px 1px 3px 1px rgba(0, 0, 0, 0.15);\n",
              "      filter: drop-shadow(0px 1px 2px rgba(0, 0, 0, 0.3));\n",
              "      fill: #FFFFFF;\n",
              "    }\n",
              "  </style>\n",
              "\n",
              "      <script>\n",
              "        const buttonEl =\n",
              "          document.querySelector('#df-79b8affb-f01f-4e9c-bc40-312a5bfabd11 button.colab-df-convert');\n",
              "        buttonEl.style.display =\n",
              "          google.colab.kernel.accessAllowed ? 'block' : 'none';\n",
              "\n",
              "        async function convertToInteractive(key) {\n",
              "          const element = document.querySelector('#df-79b8affb-f01f-4e9c-bc40-312a5bfabd11');\n",
              "          const dataTable =\n",
              "            await google.colab.kernel.invokeFunction('convertToInteractive',\n",
              "                                                     [key], {});\n",
              "          if (!dataTable) return;\n",
              "\n",
              "          const docLinkHtml = 'Like what you see? Visit the ' +\n",
              "            '<a target=\"_blank\" href=https://colab.research.google.com/notebooks/data_table.ipynb>data table notebook</a>'\n",
              "            + ' to learn more about interactive tables.';\n",
              "          element.innerHTML = '';\n",
              "          dataTable['output_type'] = 'display_data';\n",
              "          await google.colab.output.renderOutput(dataTable, element);\n",
              "          const docLink = document.createElement('div');\n",
              "          docLink.innerHTML = docLinkHtml;\n",
              "          element.appendChild(docLink);\n",
              "        }\n",
              "      </script>\n",
              "    </div>\n",
              "  </div>\n",
              "  "
            ],
            "text/plain": [
              "                label            aon   daily_decr30   daily_decr90  \\\n",
              "count   209593.000000  209593.000000  209593.000000  209593.000000   \n",
              "unique            NaN            NaN            NaN            NaN   \n",
              "top               NaN            NaN            NaN            NaN   \n",
              "freq              NaN            NaN            NaN            NaN   \n",
              "mean         0.875177    8112.343445    5381.402289    6082.515068   \n",
              "std          0.330519   75696.082531    9220.623400   10918.812767   \n",
              "min          0.000000     -48.000000     -93.012667     -93.012667   \n",
              "25%          1.000000     246.000000      42.440000      42.692000   \n",
              "50%          1.000000     527.000000    1469.175667    1500.000000   \n",
              "75%          1.000000     982.000000    7244.000000    7802.790000   \n",
              "max          1.000000  999860.755168  265926.000000  320630.000000   \n",
              "\n",
              "             rental30       rental90  last_rech_date_ma  last_rech_date_da  \\\n",
              "count   209593.000000  209593.000000      209593.000000      209593.000000   \n",
              "unique            NaN            NaN                NaN                NaN   \n",
              "top               NaN            NaN                NaN                NaN   \n",
              "freq              NaN            NaN                NaN                NaN   \n",
              "mean      2692.581910    3483.406534        3755.847800        3712.202921   \n",
              "std       4308.586781    5770.461279       53905.892230       53374.833430   \n",
              "min     -23737.140000  -24720.580000         -29.000000         -29.000000   \n",
              "25%        280.420000     300.260000           1.000000           0.000000   \n",
              "50%       1083.570000    1334.000000           3.000000           0.000000   \n",
              "75%       3356.940000    4201.790000           7.000000           0.000000   \n",
              "max     198926.110000  200148.110000      998650.377733      999171.809410   \n",
              "\n",
              "        last_rech_amt_ma  cnt_ma_rech30  ...   amnt_loans30  maxamnt_loans30  \\\n",
              "count      209593.000000  209593.000000  ...  209593.000000    209593.000000   \n",
              "unique               NaN            NaN  ...            NaN              NaN   \n",
              "top                  NaN            NaN  ...            NaN              NaN   \n",
              "freq                 NaN            NaN  ...            NaN              NaN   \n",
              "mean         2064.452797       3.978057  ...      17.952021       274.658747   \n",
              "std          2370.786034       4.256090  ...      17.379741      4245.264648   \n",
              "min             0.000000       0.000000  ...       0.000000         0.000000   \n",
              "25%           770.000000       1.000000  ...       6.000000         6.000000   \n",
              "50%          1539.000000       3.000000  ...      12.000000         6.000000   \n",
              "75%          2309.000000       5.000000  ...      24.000000         6.000000   \n",
              "max         55000.000000     203.000000  ...     306.000000     99864.560864   \n",
              "\n",
              "        medianamnt_loans30    cnt_loans90   amnt_loans90  maxamnt_loans90  \\\n",
              "count        209593.000000  209593.000000  209593.000000    209593.000000   \n",
              "unique                 NaN            NaN            NaN              NaN   \n",
              "top                    NaN            NaN            NaN              NaN   \n",
              "freq                   NaN            NaN            NaN              NaN   \n",
              "mean              0.054029      18.520919      23.645398         6.703134   \n",
              "std               0.218039     224.797423      26.469861         2.103864   \n",
              "min               0.000000       0.000000       0.000000         0.000000   \n",
              "25%               0.000000       1.000000       6.000000         6.000000   \n",
              "50%               0.000000       2.000000      12.000000         6.000000   \n",
              "75%               0.000000       5.000000      30.000000         6.000000   \n",
              "max               3.000000    4997.517944     438.000000        12.000000   \n",
              "\n",
              "        medianamnt_loans90      payback30      payback90       pdate  \n",
              "count        209593.000000  209593.000000  209593.000000      209593  \n",
              "unique                 NaN            NaN            NaN          82  \n",
              "top                    NaN            NaN            NaN  2016-07-04  \n",
              "freq                   NaN            NaN            NaN        3150  \n",
              "mean              0.046077       3.398826       4.321485         NaN  \n",
              "std               0.200692       8.813729      10.308108         NaN  \n",
              "min               0.000000       0.000000       0.000000         NaN  \n",
              "25%               0.000000       0.000000       0.000000         NaN  \n",
              "50%               0.000000       0.000000       1.666667         NaN  \n",
              "75%               0.000000       3.750000       4.500000         NaN  \n",
              "max               3.000000     171.500000     171.500000         NaN  \n",
              "\n",
              "[11 rows x 34 columns]"
            ]
          },
          "execution_count": 68,
          "metadata": {},
          "output_type": "execute_result"
        }
      ],
      "source": [
        "df.describe(include='all')"
      ]
    },
    {
      "cell_type": "markdown",
      "metadata": {
        "id": "Edaz1XbbJ02a"
      },
      "source": [
        "###Making the model and finding dependent and independent features"
      ]
    },
    {
      "cell_type": "code",
      "execution_count": 76,
      "metadata": {
        "id": "M1d-TR9BJ5GN"
      },
      "outputs": [],
      "source": [
        "y=df['label']"
      ]
    },
    {
      "cell_type": "code",
      "execution_count": 80,
      "metadata": {
        "id": "nW-pVcRuLU-U"
      },
      "outputs": [],
      "source": [
        "# Reducing the dimensionality using Singular Value Decomposition of the date\n",
        "from sklearn.decomposition import PCA"
      ]
    },
    {
      "cell_type": "code",
      "execution_count": 77,
      "metadata": {
        "id": "p6XtYYF3LqN6"
      },
      "outputs": [],
      "source": [
        "df2=df.copy()"
      ]
    },
    {
      "cell_type": "code",
      "execution_count": 83,
      "metadata": {
        "id": "eje7_SK7LsvI"
      },
      "outputs": [],
      "source": [
        "df2.drop('label', axis=1, inplace=True)\n",
        "df2.drop('pdate', axis=1, inplace=True)"
      ]
    },
    {
      "cell_type": "code",
      "execution_count": 84,
      "metadata": {
        "id": "XyUHFTDuLxMB"
      },
      "outputs": [],
      "source": [
        "pca=PCA(n_components=15)\n",
        "df2_pca=pca.fit_transform(df2)"
      ]
    },
    {
      "cell_type": "code",
      "execution_count": 85,
      "metadata": {
        "id": "ou-VjWS7L3zq"
      },
      "outputs": [],
      "source": [
        "X=df2_pca"
      ]
    },
    {
      "cell_type": "markdown",
      "metadata": {
        "id": "GMorVBTfZjRE"
      },
      "source": [
        "### Train-Test-Split and Using Random Forest Classifier"
      ]
    },
    {
      "cell_type": "code",
      "execution_count": 86,
      "metadata": {
        "id": "1RbY4j1hMWVu"
      },
      "outputs": [],
      "source": [
        "from sklearn.model_selection import train_test_split\n",
        "from sklearn.ensemble import RandomForestClassifier"
      ]
    },
    {
      "cell_type": "code",
      "execution_count": 87,
      "metadata": {
        "id": "j1vX9SF6MZUk"
      },
      "outputs": [],
      "source": [
        "X_train, X_test, Y_train, Y_test = train_test_split(X,y,test_size=0.3,random_state=1)"
      ]
    },
    {
      "cell_type": "code",
      "execution_count": 88,
      "metadata": {
        "id": "dKwVed25MhNi"
      },
      "outputs": [],
      "source": [
        "rfc= RandomForestClassifier(n_estimators=8)"
      ]
    },
    {
      "cell_type": "code",
      "execution_count": 90,
      "metadata": {
        "id": "eo1zI-SYMj3I"
      },
      "outputs": [],
      "source": [
        "rfc.fit(X_train, Y_train)\n",
        "y_pred=rfc.predict(X_test)"
      ]
    },
    {
      "cell_type": "code",
      "execution_count": 92,
      "metadata": {
        "id": "CZq4PuhRMmH0"
      },
      "outputs": [],
      "source": [
        "from sklearn.metrics import accuracy_score\n",
        "accuracy_rfc=accuracy_score(y_pred, Y_test)"
      ]
    },
    {
      "cell_type": "code",
      "execution_count": 93,
      "metadata": {
        "colab": {
          "base_uri": "https://localhost:8080/"
        },
        "id": "0VLnk8WXMsUe",
        "outputId": "73b7ff59-a16d-4d55-fea1-06b642a9c9d9"
      },
      "outputs": [
        {
          "data": {
            "text/plain": [
              "0.8903432043003913"
            ]
          },
          "execution_count": 93,
          "metadata": {},
          "output_type": "execute_result"
        }
      ],
      "source": [
        "accuracy_rfc"
      ]
    },
    {
      "cell_type": "markdown",
      "metadata": {
        "id": "3WyGlwxZNttx"
      },
      "source": [
        "####Cross validation"
      ]
    },
    {
      "cell_type": "code",
      "execution_count": 94,
      "metadata": {
        "id": "nlbQeSRxNvp-"
      },
      "outputs": [],
      "source": [
        "from sklearn.model_selection import cross_val_score\n",
        "r_score=cross_val_score(rfc,X,y,cv=8)"
      ]
    },
    {
      "cell_type": "code",
      "execution_count": 95,
      "metadata": {
        "colab": {
          "base_uri": "https://localhost:8080/"
        },
        "id": "MSTOyN5EMzxz",
        "outputId": "d8895859-2635-4318-f515-0a5220571794"
      },
      "outputs": [
        {
          "data": {
            "text/plain": [
              "array([0.89022901, 0.89156075, 0.88774381, 0.89098821, 0.8918661 ,\n",
              "       0.89129356, 0.88953777, 0.89247681])"
            ]
          },
          "execution_count": 95,
          "metadata": {},
          "output_type": "execute_result"
        }
      ],
      "source": [
        "r_score"
      ]
    },
    {
      "cell_type": "code",
      "execution_count": 96,
      "metadata": {
        "colab": {
          "base_uri": "https://localhost:8080/"
        },
        "id": "gbzFgGv3OMDs",
        "outputId": "66d4b6b8-32ec-431e-81b4-a7b477b68d40"
      },
      "outputs": [
        {
          "data": {
            "text/plain": [
              "0.8907120012738672"
            ]
          },
          "execution_count": 96,
          "metadata": {},
          "output_type": "execute_result"
        }
      ],
      "source": [
        "r_score.mean()"
      ]
    },
    {
      "cell_type": "markdown",
      "metadata": {
        "id": "cv8-2N1pOVbu"
      },
      "source": [
        "###Confusion Matrix"
      ]
    },
    {
      "cell_type": "code",
      "execution_count": 97,
      "metadata": {
        "id": "oRcmYp1wORzY"
      },
      "outputs": [],
      "source": [
        "from sklearn.metrics import confusion_matrix"
      ]
    },
    {
      "cell_type": "code",
      "execution_count": 98,
      "metadata": {
        "id": "1uagFwReOdvM"
      },
      "outputs": [],
      "source": [
        "conf_mat=confusion_matrix(Y_test, y_pred)"
      ]
    },
    {
      "cell_type": "code",
      "execution_count": 99,
      "metadata": {
        "colab": {
          "base_uri": "https://localhost:8080/"
        },
        "id": "OlbQIQrhOh28",
        "outputId": "79f35adb-e87c-4de2-ba00-f39e40bf5adf"
      },
      "outputs": [
        {
          "name": "stdout",
          "output_type": "stream",
          "text": [
            "[[ 3375  4410]\n",
            " [ 2485 52608]]\n"
          ]
        }
      ],
      "source": [
        "print(conf_mat)"
      ]
    },
    {
      "cell_type": "code",
      "execution_count": 100,
      "metadata": {
        "id": "u6MB0PwCOlWm"
      },
      "outputs": [],
      "source": [
        "from sklearn.metrics import ConfusionMatrixDisplay"
      ]
    },
    {
      "cell_type": "code",
      "execution_count": 106,
      "metadata": {
        "colab": {
          "base_uri": "https://localhost:8080/",
          "height": 281
        },
        "id": "VLds497EO1qi",
        "outputId": "4ebb7238-1032-422e-bede-8b6af2768dbb"
      },
      "outputs": [
        {
          "data": {
            "image/png": "[encoded data removed]",
            "text/plain": [
              "<Figure size 432x288 with 2 Axes>"
            ]
          },
          "metadata": {
            "needs_background": "light"
          },
          "output_type": "display_data"
        }
      ],
      "source": [
        "sns.heatmap(conf_mat,annot=True, cmap=\"crest\", linewidths=.7, fmt='d')\n",
        "plt.title('Confusion Matrix of the prediction is:')\n",
        "plt.show()"
      ]
    },
    {
      "cell_type": "markdown",
      "metadata": {
        "id": "5oFE7uxZPXUj"
      },
      "source": [
        "####Classification Report"
      ]
    },
    {
      "cell_type": "code",
      "execution_count": 107,
      "metadata": {
        "id": "ZLAeh4GqPhAo"
      },
      "outputs": [],
      "source": [
        "from sklearn.metrics import classification_report"
      ]
    },
    {
      "cell_type": "code",
      "execution_count": 108,
      "metadata": {
        "colab": {
          "base_uri": "https://localhost:8080/"
        },
        "id": "_M3LhgrSPCP7",
        "outputId": "280bede0-c52d-4812-a348-8eaf0673d67a"
      },
      "outputs": [
        {
          "name": "stdout",
          "output_type": "stream",
          "text": [
            "              precision    recall  f1-score   support\n",
            "\n",
            "           0       0.58      0.43      0.49      7785\n",
            "           1       0.92      0.95      0.94     55093\n",
            "\n",
            "    accuracy                           0.89     62878\n",
            "   macro avg       0.75      0.69      0.72     62878\n",
            "weighted avg       0.88      0.89      0.88     62878\n",
            "\n"
          ]
        }
      ],
      "source": [
        "print(classification_report(Y_test,y_pred))"
      ]
    },
    {
      "cell_type": "code",
      "execution_count": 109,
      "metadata": {
        "id": "k0kHvpKMPsm6"
      },
      "outputs": [],
      "source": [
        "from sklearn.metrics import recall_score"
      ]
    },
    {
      "cell_type": "code",
      "execution_count": 110,
      "metadata": {
        "colab": {
          "base_uri": "https://localhost:8080/"
        },
        "id": "hX4iP_9PP5E6",
        "outputId": "9acc993e-f34b-4c83-c7f5-ed4d84c6ce5b"
      },
      "outputs": [
        {
          "name": "stdout",
          "output_type": "stream",
          "text": [
            "0.954894451200697\n"
          ]
        }
      ],
      "source": [
        "print(recall_score(Y_test,y_pred,average='binary'))"
      ]
    },
    {
      "cell_type": "code",
      "execution_count": 111,
      "metadata": {
        "id": "7elBvxiBP65i"
      },
      "outputs": [],
      "source": [
        "from sklearn.metrics import precision_score"
      ]
    },
    {
      "cell_type": "code",
      "execution_count": 112,
      "metadata": {
        "colab": {
          "base_uri": "https://localhost:8080/"
        },
        "id": "N1BXM6tbP8-P",
        "outputId": "090ced37-08cf-47fe-d9ae-72ce9cb5d7cb"
      },
      "outputs": [
        {
          "name": "stdout",
          "output_type": "stream",
          "text": [
            "0.9226560033673576\n"
          ]
        }
      ],
      "source": [
        "print(precision_score(Y_test,y_pred,average='binary'))"
      ]
    },
    {
      "cell_type": "code",
      "execution_count": 113,
      "metadata": {
        "id": "weHexZ0UQEKF"
      },
      "outputs": [],
      "source": [
        "from sklearn.metrics import f1_score"
      ]
    },
    {
      "cell_type": "code",
      "execution_count": 114,
      "metadata": {
        "colab": {
          "base_uri": "https://localhost:8080/"
        },
        "id": "vG2WBnvZQJo3",
        "outputId": "8b4782da-cc13-4973-97ba-56db4ea57cbb"
      },
      "outputs": [
        {
          "name": "stdout",
          "output_type": "stream",
          "text": [
            "0.938498452426613\n"
          ]
        }
      ],
      "source": [
        "print(f1_score(Y_test,y_pred,average='binary'))"
      ]
    },
    {
      "cell_type": "code",
      "execution_count": 115,
      "metadata": {
        "colab": {
          "base_uri": "https://localhost:8080/"
        },
        "id": "7SJ9XCumQRh9",
        "outputId": "37d55c37-652a-4f0e-d8d7-b34753f4122c"
      },
      "outputs": [
        {
          "data": {
            "text/plain": [
              "0.8903432043003913"
            ]
          },
          "execution_count": 115,
          "metadata": {},
          "output_type": "execute_result"
        }
      ],
      "source": [
        "accuracy_rfc"
      ]
    },
    {
      "cell_type": "code",
      "execution_count": 130,
      "metadata": {
        "colab": {
          "base_uri": "https://localhost:8080/"
        },
        "id": "9FVwuxA1VgxU",
        "outputId": "4eefab3b-ab38-482f-cb78-2f2f7d945f18"
      },
      "outputs": [
        {
          "name": "stdout",
          "output_type": "stream",
          "text": [
            "Accuracy of Random Forest Classifier is :  89.0343\n"
          ]
        }
      ],
      "source": [
        "print(\"Accuracy of Random Forest Classifier is : \",round(accuracy_rfc*100,4))"
      ]
    },
    {
      "cell_type": "markdown",
      "metadata": {
        "id": "qzLmMgFnR2Rv"
      },
      "source": [
        "##Using other models:\n",
        " \n",
        "1.   Regression model\n",
        "\n",
        "\n",
        "\n",
        "\n",
        "\n",
        "\n"
      ]
    },
    {
      "cell_type": "code",
      "execution_count": 120,
      "metadata": {
        "id": "WwwBF1ngQXBA"
      },
      "outputs": [],
      "source": [
        "from sklearn.linear_model import LogisticRegression\n",
        "import warnings\n",
        "warnings.filterwarnings('ignore')\n",
        "from sklearn.metrics import accuracy_score"
      ]
    },
    {
      "cell_type": "code",
      "execution_count": 122,
      "metadata": {
        "colab": {
          "base_uri": "https://localhost:8080/"
        },
        "id": "Exr3Q_N3SD9x",
        "outputId": "1c97fe52-b152-4433-883f-e36b70ef7e7e"
      },
      "outputs": [
        {
          "name": "stdout",
          "output_type": "stream",
          "text": [
            "Accuracy of Logistic Regression is:  86.6581\n"
          ]
        }
      ],
      "source": [
        "x_train,x_val,y_train,y_val=train_test_split(df2,y,random_state=7)\n",
        "lr=LogisticRegression()\n",
        "lr.fit(x_train,y_train)\n",
        "y_pred=lr.predict(x_val)\n",
        "acc_logistic_reg=round(accuracy_score(y_pred,y_val)*100,4)\n",
        "print( \"Accuracy of Logistic Regression is: \",acc_logistic_reg)"
      ]
    },
    {
      "cell_type": "markdown",
      "metadata": {
        "id": "_nRRxJ5jT8cq"
      },
      "source": [
        "2.KNN or k-nearest neighbours classification model\n",
        "\n",
        "\n",
        "\n",
        "\n"
      ]
    },
    {
      "cell_type": "code",
      "execution_count": 123,
      "metadata": {
        "id": "6Ul6EWyaUEx9"
      },
      "outputs": [],
      "source": [
        "from sklearn.neighbors import KNeighborsClassifier"
      ]
    },
    {
      "cell_type": "code",
      "execution_count": 124,
      "metadata": {
        "colab": {
          "base_uri": "https://localhost:8080/"
        },
        "id": "it9WB7RZT7sC",
        "outputId": "5d3bca1a-9cca-408d-d714-38549923e8ef"
      },
      "outputs": [
        {
          "name": "stdout",
          "output_type": "stream",
          "text": [
            "Accuracy of KNN model is:  87.8795\n"
          ]
        }
      ],
      "source": [
        "knn=KNeighborsClassifier()\n",
        "knn.fit(x_train, y_train)\n",
        "y_pred=knn.predict(x_val)\n",
        "acc_knn=round(accuracy_score(y_pred, y_val)*100,4)\n",
        "print(\"Accuracy of KNN model is: \",acc_knn)"
      ]
    },
    {
      "cell_type": "markdown",
      "metadata": {
        "id": "kUsiEGRMaS0_"
      },
      "source": [
        "Final remarks:\n",
        "*   Trained the model using RFC , LR and KNN with accuracies 89.03, 86.51 and 87.65 respectively.\n",
        "*   The Random forest Model is giving better accuracy than the other two models.\n",
        "\n",
        "\n",
        "\n"
      ]
    }
  ],
  "metadata": {
    "colab": {
      "name": "VarunSaini_1901640100318.ipynb",
      "provenance": []
    },
    "kernelspec": {
      "display_name": "Python 3",
      "name": "python3"
    },
    "language_info": {
      "name": "python"
    }
  },
  "nbformat": 4,
  "nbformat_minor": 0
}
